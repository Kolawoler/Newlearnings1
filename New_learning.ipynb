{
 "cells": [
  {
   "cell_type": "code",
   "execution_count": 1,
   "id": "b7f3d442",
   "metadata": {},
   "outputs": [],
   "source": [
    "#from sklearn.ensemble import RandomForestRegressor\n",
    "import pandas as pd\n",
    "import os\n",
    "import matplotlib.pyplot as plt"
   ]
  },
  {
   "cell_type": "code",
   "execution_count": 2,
   "id": "6037a913",
   "metadata": {},
   "outputs": [],
   "source": [
    "housing = pd.read_csv('housing_.csv')"
   ]
  },
  {
   "cell_type": "code",
   "execution_count": 3,
   "id": "672177ce",
   "metadata": {},
   "outputs": [
    {
     "data": {
      "text/html": [
       "<div>\n",
       "<style scoped>\n",
       "    .dataframe tbody tr th:only-of-type {\n",
       "        vertical-align: middle;\n",
       "    }\n",
       "\n",
       "    .dataframe tbody tr th {\n",
       "        vertical-align: top;\n",
       "    }\n",
       "\n",
       "    .dataframe thead th {\n",
       "        text-align: right;\n",
       "    }\n",
       "</style>\n",
       "<table border=\"1\" class=\"dataframe\">\n",
       "  <thead>\n",
       "    <tr style=\"text-align: right;\">\n",
       "      <th></th>\n",
       "      <th>longitude</th>\n",
       "      <th>latitude</th>\n",
       "      <th>housing_median_age</th>\n",
       "      <th>total_rooms</th>\n",
       "      <th>total_bedrooms</th>\n",
       "      <th>population</th>\n",
       "      <th>households</th>\n",
       "      <th>median_income</th>\n",
       "      <th>median_house_value</th>\n",
       "      <th>ocean_proximity</th>\n",
       "    </tr>\n",
       "  </thead>\n",
       "  <tbody>\n",
       "    <tr>\n",
       "      <th>0</th>\n",
       "      <td>-122.23</td>\n",
       "      <td>37.88</td>\n",
       "      <td>41.0</td>\n",
       "      <td>880.0</td>\n",
       "      <td>129.0</td>\n",
       "      <td>322.0</td>\n",
       "      <td>126.0</td>\n",
       "      <td>8.3252</td>\n",
       "      <td>452600.0</td>\n",
       "      <td>NEAR BAY</td>\n",
       "    </tr>\n",
       "    <tr>\n",
       "      <th>1</th>\n",
       "      <td>-122.22</td>\n",
       "      <td>37.86</td>\n",
       "      <td>21.0</td>\n",
       "      <td>7099.0</td>\n",
       "      <td>1106.0</td>\n",
       "      <td>2401.0</td>\n",
       "      <td>1138.0</td>\n",
       "      <td>8.3014</td>\n",
       "      <td>358500.0</td>\n",
       "      <td>NEAR BAY</td>\n",
       "    </tr>\n",
       "    <tr>\n",
       "      <th>2</th>\n",
       "      <td>-122.24</td>\n",
       "      <td>37.85</td>\n",
       "      <td>52.0</td>\n",
       "      <td>1467.0</td>\n",
       "      <td>190.0</td>\n",
       "      <td>496.0</td>\n",
       "      <td>177.0</td>\n",
       "      <td>7.2574</td>\n",
       "      <td>352100.0</td>\n",
       "      <td>NEAR BAY</td>\n",
       "    </tr>\n",
       "    <tr>\n",
       "      <th>3</th>\n",
       "      <td>-122.25</td>\n",
       "      <td>37.85</td>\n",
       "      <td>52.0</td>\n",
       "      <td>1274.0</td>\n",
       "      <td>235.0</td>\n",
       "      <td>558.0</td>\n",
       "      <td>219.0</td>\n",
       "      <td>5.6431</td>\n",
       "      <td>341300.0</td>\n",
       "      <td>NEAR BAY</td>\n",
       "    </tr>\n",
       "    <tr>\n",
       "      <th>4</th>\n",
       "      <td>-122.25</td>\n",
       "      <td>37.85</td>\n",
       "      <td>52.0</td>\n",
       "      <td>1627.0</td>\n",
       "      <td>280.0</td>\n",
       "      <td>565.0</td>\n",
       "      <td>259.0</td>\n",
       "      <td>3.8462</td>\n",
       "      <td>342200.0</td>\n",
       "      <td>NEAR BAY</td>\n",
       "    </tr>\n",
       "    <tr>\n",
       "      <th>...</th>\n",
       "      <td>...</td>\n",
       "      <td>...</td>\n",
       "      <td>...</td>\n",
       "      <td>...</td>\n",
       "      <td>...</td>\n",
       "      <td>...</td>\n",
       "      <td>...</td>\n",
       "      <td>...</td>\n",
       "      <td>...</td>\n",
       "      <td>...</td>\n",
       "    </tr>\n",
       "    <tr>\n",
       "      <th>20635</th>\n",
       "      <td>-121.09</td>\n",
       "      <td>39.48</td>\n",
       "      <td>25.0</td>\n",
       "      <td>1665.0</td>\n",
       "      <td>374.0</td>\n",
       "      <td>845.0</td>\n",
       "      <td>330.0</td>\n",
       "      <td>1.5603</td>\n",
       "      <td>78100.0</td>\n",
       "      <td>INLAND</td>\n",
       "    </tr>\n",
       "    <tr>\n",
       "      <th>20636</th>\n",
       "      <td>-121.21</td>\n",
       "      <td>39.49</td>\n",
       "      <td>18.0</td>\n",
       "      <td>697.0</td>\n",
       "      <td>150.0</td>\n",
       "      <td>356.0</td>\n",
       "      <td>114.0</td>\n",
       "      <td>2.5568</td>\n",
       "      <td>77100.0</td>\n",
       "      <td>INLAND</td>\n",
       "    </tr>\n",
       "    <tr>\n",
       "      <th>20637</th>\n",
       "      <td>-121.22</td>\n",
       "      <td>39.43</td>\n",
       "      <td>17.0</td>\n",
       "      <td>2254.0</td>\n",
       "      <td>485.0</td>\n",
       "      <td>1007.0</td>\n",
       "      <td>433.0</td>\n",
       "      <td>1.7000</td>\n",
       "      <td>92300.0</td>\n",
       "      <td>INLAND</td>\n",
       "    </tr>\n",
       "    <tr>\n",
       "      <th>20638</th>\n",
       "      <td>-121.32</td>\n",
       "      <td>39.43</td>\n",
       "      <td>18.0</td>\n",
       "      <td>1860.0</td>\n",
       "      <td>409.0</td>\n",
       "      <td>741.0</td>\n",
       "      <td>349.0</td>\n",
       "      <td>1.8672</td>\n",
       "      <td>84700.0</td>\n",
       "      <td>INLAND</td>\n",
       "    </tr>\n",
       "    <tr>\n",
       "      <th>20639</th>\n",
       "      <td>-121.24</td>\n",
       "      <td>39.37</td>\n",
       "      <td>16.0</td>\n",
       "      <td>2785.0</td>\n",
       "      <td>616.0</td>\n",
       "      <td>1387.0</td>\n",
       "      <td>530.0</td>\n",
       "      <td>2.3886</td>\n",
       "      <td>89400.0</td>\n",
       "      <td>INLAND</td>\n",
       "    </tr>\n",
       "  </tbody>\n",
       "</table>\n",
       "<p>20640 rows × 10 columns</p>\n",
       "</div>"
      ],
      "text/plain": [
       "       longitude  latitude  housing_median_age  total_rooms  total_bedrooms  \\\n",
       "0        -122.23     37.88                41.0        880.0           129.0   \n",
       "1        -122.22     37.86                21.0       7099.0          1106.0   \n",
       "2        -122.24     37.85                52.0       1467.0           190.0   \n",
       "3        -122.25     37.85                52.0       1274.0           235.0   \n",
       "4        -122.25     37.85                52.0       1627.0           280.0   \n",
       "...          ...       ...                 ...          ...             ...   \n",
       "20635    -121.09     39.48                25.0       1665.0           374.0   \n",
       "20636    -121.21     39.49                18.0        697.0           150.0   \n",
       "20637    -121.22     39.43                17.0       2254.0           485.0   \n",
       "20638    -121.32     39.43                18.0       1860.0           409.0   \n",
       "20639    -121.24     39.37                16.0       2785.0           616.0   \n",
       "\n",
       "       population  households  median_income  median_house_value  \\\n",
       "0           322.0       126.0         8.3252            452600.0   \n",
       "1          2401.0      1138.0         8.3014            358500.0   \n",
       "2           496.0       177.0         7.2574            352100.0   \n",
       "3           558.0       219.0         5.6431            341300.0   \n",
       "4           565.0       259.0         3.8462            342200.0   \n",
       "...           ...         ...            ...                 ...   \n",
       "20635       845.0       330.0         1.5603             78100.0   \n",
       "20636       356.0       114.0         2.5568             77100.0   \n",
       "20637      1007.0       433.0         1.7000             92300.0   \n",
       "20638       741.0       349.0         1.8672             84700.0   \n",
       "20639      1387.0       530.0         2.3886             89400.0   \n",
       "\n",
       "      ocean_proximity  \n",
       "0            NEAR BAY  \n",
       "1            NEAR BAY  \n",
       "2            NEAR BAY  \n",
       "3            NEAR BAY  \n",
       "4            NEAR BAY  \n",
       "...               ...  \n",
       "20635          INLAND  \n",
       "20636          INLAND  \n",
       "20637          INLAND  \n",
       "20638          INLAND  \n",
       "20639          INLAND  \n",
       "\n",
       "[20640 rows x 10 columns]"
      ]
     },
     "execution_count": 3,
     "metadata": {},
     "output_type": "execute_result"
    }
   ],
   "source": [
    "housing"
   ]
  },
  {
   "cell_type": "code",
   "execution_count": 4,
   "id": "d6e642c4",
   "metadata": {},
   "outputs": [],
   "source": [
    "#how to load csv file or csv dataset\n",
    "#just use pd.read_csv('file_name.csv') depending on the file name, the extension has to be added"
   ]
  },
  {
   "cell_type": "code",
   "execution_count": 5,
   "id": "639f9458",
   "metadata": {},
   "outputs": [],
   "source": [
    "      Pop_room = housing['population']/housing['total_bedrooms']"
   ]
  },
  {
   "cell_type": "code",
   "execution_count": 6,
   "id": "80063b4d",
   "metadata": {},
   "outputs": [
    {
     "data": {
      "text/plain": [
       "<AxesSubplot:>"
      ]
     },
     "execution_count": 6,
     "metadata": {},
     "output_type": "execute_result"
    },
    {
     "data": {
      "image/png": "[encoded data removed]",
      "text/plain": [
       "<Figure size 432x288 with 1 Axes>"
      ]
     },
     "metadata": {
      "needs_background": "light"
     },
     "output_type": "display_data"
    }
   ],
   "source": [
    "housing['population'].hist()"
   ]
  },
  {
   "cell_type": "code",
   "execution_count": 7,
   "id": "9e207c62",
   "metadata": {},
   "outputs": [],
   "source": [
    "#housing['room_per_pop']= Pop_room"
   ]
  },
  {
   "cell_type": "code",
   "execution_count": 8,
   "id": "3499c5c1",
   "metadata": {},
   "outputs": [],
   "source": [
    "#housing.head()"
   ]
  },
  {
   "cell_type": "code",
   "execution_count": 9,
   "id": "bc9e24a7",
   "metadata": {},
   "outputs": [
    {
     "data": {
      "text/html": [
       "<div>\n",
       "<style scoped>\n",
       "    .dataframe tbody tr th:only-of-type {\n",
       "        vertical-align: middle;\n",
       "    }\n",
       "\n",
       "    .dataframe tbody tr th {\n",
       "        vertical-align: top;\n",
       "    }\n",
       "\n",
       "    .dataframe thead th {\n",
       "        text-align: right;\n",
       "    }\n",
       "</style>\n",
       "<table border=\"1\" class=\"dataframe\">\n",
       "  <thead>\n",
       "    <tr style=\"text-align: right;\">\n",
       "      <th></th>\n",
       "      <th>longitude</th>\n",
       "      <th>latitude</th>\n",
       "      <th>housing_median_age</th>\n",
       "      <th>total_rooms</th>\n",
       "      <th>total_bedrooms</th>\n",
       "      <th>population</th>\n",
       "      <th>households</th>\n",
       "      <th>median_income</th>\n",
       "      <th>median_house_value</th>\n",
       "    </tr>\n",
       "  </thead>\n",
       "  <tbody>\n",
       "    <tr>\n",
       "      <th>count</th>\n",
       "      <td>20640.000000</td>\n",
       "      <td>20640.000000</td>\n",
       "      <td>20640.000000</td>\n",
       "      <td>20640.000000</td>\n",
       "      <td>20433.000000</td>\n",
       "      <td>20640.000000</td>\n",
       "      <td>20640.000000</td>\n",
       "      <td>20640.000000</td>\n",
       "      <td>20640.000000</td>\n",
       "    </tr>\n",
       "    <tr>\n",
       "      <th>mean</th>\n",
       "      <td>-119.569704</td>\n",
       "      <td>35.631861</td>\n",
       "      <td>28.639486</td>\n",
       "      <td>2635.763081</td>\n",
       "      <td>537.870553</td>\n",
       "      <td>1425.476744</td>\n",
       "      <td>499.539680</td>\n",
       "      <td>3.870671</td>\n",
       "      <td>206855.816909</td>\n",
       "    </tr>\n",
       "    <tr>\n",
       "      <th>std</th>\n",
       "      <td>2.003532</td>\n",
       "      <td>2.135952</td>\n",
       "      <td>12.585558</td>\n",
       "      <td>2181.615252</td>\n",
       "      <td>421.385070</td>\n",
       "      <td>1132.462122</td>\n",
       "      <td>382.329753</td>\n",
       "      <td>1.899822</td>\n",
       "      <td>115395.615874</td>\n",
       "    </tr>\n",
       "    <tr>\n",
       "      <th>min</th>\n",
       "      <td>-124.350000</td>\n",
       "      <td>32.540000</td>\n",
       "      <td>1.000000</td>\n",
       "      <td>2.000000</td>\n",
       "      <td>1.000000</td>\n",
       "      <td>3.000000</td>\n",
       "      <td>1.000000</td>\n",
       "      <td>0.499900</td>\n",
       "      <td>14999.000000</td>\n",
       "    </tr>\n",
       "    <tr>\n",
       "      <th>25%</th>\n",
       "      <td>-121.800000</td>\n",
       "      <td>33.930000</td>\n",
       "      <td>18.000000</td>\n",
       "      <td>1447.750000</td>\n",
       "      <td>296.000000</td>\n",
       "      <td>787.000000</td>\n",
       "      <td>280.000000</td>\n",
       "      <td>2.563400</td>\n",
       "      <td>119600.000000</td>\n",
       "    </tr>\n",
       "    <tr>\n",
       "      <th>50%</th>\n",
       "      <td>-118.490000</td>\n",
       "      <td>34.260000</td>\n",
       "      <td>29.000000</td>\n",
       "      <td>2127.000000</td>\n",
       "      <td>435.000000</td>\n",
       "      <td>1166.000000</td>\n",
       "      <td>409.000000</td>\n",
       "      <td>3.534800</td>\n",
       "      <td>179700.000000</td>\n",
       "    </tr>\n",
       "    <tr>\n",
       "      <th>75%</th>\n",
       "      <td>-118.010000</td>\n",
       "      <td>37.710000</td>\n",
       "      <td>37.000000</td>\n",
       "      <td>3148.000000</td>\n",
       "      <td>647.000000</td>\n",
       "      <td>1725.000000</td>\n",
       "      <td>605.000000</td>\n",
       "      <td>4.743250</td>\n",
       "      <td>264725.000000</td>\n",
       "    </tr>\n",
       "    <tr>\n",
       "      <th>max</th>\n",
       "      <td>-114.310000</td>\n",
       "      <td>41.950000</td>\n",
       "      <td>52.000000</td>\n",
       "      <td>39320.000000</td>\n",
       "      <td>6445.000000</td>\n",
       "      <td>35682.000000</td>\n",
       "      <td>6082.000000</td>\n",
       "      <td>15.000100</td>\n",
       "      <td>500001.000000</td>\n",
       "    </tr>\n",
       "  </tbody>\n",
       "</table>\n",
       "</div>"
      ],
      "text/plain": [
       "          longitude      latitude  housing_median_age   total_rooms  \\\n",
       "count  20640.000000  20640.000000        20640.000000  20640.000000   \n",
       "mean    -119.569704     35.631861           28.639486   2635.763081   \n",
       "std        2.003532      2.135952           12.585558   2181.615252   \n",
       "min     -124.350000     32.540000            1.000000      2.000000   \n",
       "25%     -121.800000     33.930000           18.000000   1447.750000   \n",
       "50%     -118.490000     34.260000           29.000000   2127.000000   \n",
       "75%     -118.010000     37.710000           37.000000   3148.000000   \n",
       "max     -114.310000     41.950000           52.000000  39320.000000   \n",
       "\n",
       "       total_bedrooms    population    households  median_income  \\\n",
       "count    20433.000000  20640.000000  20640.000000   20640.000000   \n",
       "mean       537.870553   1425.476744    499.539680       3.870671   \n",
       "std        421.385070   1132.462122    382.329753       1.899822   \n",
       "min          1.000000      3.000000      1.000000       0.499900   \n",
       "25%        296.000000    787.000000    280.000000       2.563400   \n",
       "50%        435.000000   1166.000000    409.000000       3.534800   \n",
       "75%        647.000000   1725.000000    605.000000       4.743250   \n",
       "max       6445.000000  35682.000000   6082.000000      15.000100   \n",
       "\n",
       "       median_house_value  \n",
       "count        20640.000000  \n",
       "mean        206855.816909  \n",
       "std         115395.615874  \n",
       "min          14999.000000  \n",
       "25%         119600.000000  \n",
       "50%         179700.000000  \n",
       "75%         264725.000000  \n",
       "max         500001.000000  "
      ]
     },
     "execution_count": 9,
     "metadata": {},
     "output_type": "execute_result"
    }
   ],
   "source": [
    "housing.describe()"
   ]
  },
  {
   "cell_type": "code",
   "execution_count": 10,
   "id": "e1de0ccd",
   "metadata": {},
   "outputs": [],
   "source": [
    "#housing.value_counts()"
   ]
  },
  {
   "cell_type": "code",
   "execution_count": 11,
   "id": "ca70bc55",
   "metadata": {},
   "outputs": [
    {
     "data": {
      "text/plain": [
       "(5171, 10)"
      ]
     },
     "execution_count": 11,
     "metadata": {},
     "output_type": "execute_result"
    }
   ],
   "source": [
    "housing[housing['median_income']>4.74].shape"
   ]
  },
  {
   "cell_type": "code",
   "execution_count": 12,
   "id": "a9430f2c",
   "metadata": {},
   "outputs": [
    {
     "data": {
      "text/plain": [
       "5160.0"
      ]
     },
     "execution_count": 12,
     "metadata": {},
     "output_type": "execute_result"
    }
   ],
   "source": [
    ".25*20640"
   ]
  },
  {
   "cell_type": "code",
   "execution_count": null,
   "id": "2a070012",
   "metadata": {},
   "outputs": [],
   "source": []
  },
  {
   "cell_type": "code",
   "execution_count": 13,
   "id": "f1fe1fbb",
   "metadata": {},
   "outputs": [
    {
     "data": {
      "text/html": [
       "<div>\n",
       "<style scoped>\n",
       "    .dataframe tbody tr th:only-of-type {\n",
       "        vertical-align: middle;\n",
       "    }\n",
       "\n",
       "    .dataframe tbody tr th {\n",
       "        vertical-align: top;\n",
       "    }\n",
       "\n",
       "    .dataframe thead th {\n",
       "        text-align: right;\n",
       "    }\n",
       "</style>\n",
       "<table border=\"1\" class=\"dataframe\">\n",
       "  <thead>\n",
       "    <tr style=\"text-align: right;\">\n",
       "      <th></th>\n",
       "      <th>longitude</th>\n",
       "      <th>latitude</th>\n",
       "      <th>housing_median_age</th>\n",
       "      <th>total_rooms</th>\n",
       "      <th>total_bedrooms</th>\n",
       "      <th>population</th>\n",
       "      <th>households</th>\n",
       "      <th>median_income</th>\n",
       "      <th>median_house_value</th>\n",
       "      <th>ocean_proximity</th>\n",
       "    </tr>\n",
       "  </thead>\n",
       "  <tbody>\n",
       "    <tr>\n",
       "      <th>0</th>\n",
       "      <td>-122.23</td>\n",
       "      <td>37.88</td>\n",
       "      <td>41.0</td>\n",
       "      <td>880.0</td>\n",
       "      <td>129.0</td>\n",
       "      <td>322.0</td>\n",
       "      <td>126.0</td>\n",
       "      <td>8.3252</td>\n",
       "      <td>452600.0</td>\n",
       "      <td>NEAR BAY</td>\n",
       "    </tr>\n",
       "    <tr>\n",
       "      <th>1</th>\n",
       "      <td>-122.22</td>\n",
       "      <td>37.86</td>\n",
       "      <td>21.0</td>\n",
       "      <td>7099.0</td>\n",
       "      <td>1106.0</td>\n",
       "      <td>2401.0</td>\n",
       "      <td>1138.0</td>\n",
       "      <td>8.3014</td>\n",
       "      <td>358500.0</td>\n",
       "      <td>NEAR BAY</td>\n",
       "    </tr>\n",
       "    <tr>\n",
       "      <th>2</th>\n",
       "      <td>-122.24</td>\n",
       "      <td>37.85</td>\n",
       "      <td>52.0</td>\n",
       "      <td>1467.0</td>\n",
       "      <td>190.0</td>\n",
       "      <td>496.0</td>\n",
       "      <td>177.0</td>\n",
       "      <td>7.2574</td>\n",
       "      <td>352100.0</td>\n",
       "      <td>NEAR BAY</td>\n",
       "    </tr>\n",
       "    <tr>\n",
       "      <th>3</th>\n",
       "      <td>-122.25</td>\n",
       "      <td>37.85</td>\n",
       "      <td>52.0</td>\n",
       "      <td>1274.0</td>\n",
       "      <td>235.0</td>\n",
       "      <td>558.0</td>\n",
       "      <td>219.0</td>\n",
       "      <td>5.6431</td>\n",
       "      <td>341300.0</td>\n",
       "      <td>NEAR BAY</td>\n",
       "    </tr>\n",
       "    <tr>\n",
       "      <th>4</th>\n",
       "      <td>-122.25</td>\n",
       "      <td>37.85</td>\n",
       "      <td>52.0</td>\n",
       "      <td>1627.0</td>\n",
       "      <td>280.0</td>\n",
       "      <td>565.0</td>\n",
       "      <td>259.0</td>\n",
       "      <td>3.8462</td>\n",
       "      <td>342200.0</td>\n",
       "      <td>NEAR BAY</td>\n",
       "    </tr>\n",
       "  </tbody>\n",
       "</table>\n",
       "</div>"
      ],
      "text/plain": [
       "   longitude  latitude  housing_median_age  total_rooms  total_bedrooms  \\\n",
       "0    -122.23     37.88                41.0        880.0           129.0   \n",
       "1    -122.22     37.86                21.0       7099.0          1106.0   \n",
       "2    -122.24     37.85                52.0       1467.0           190.0   \n",
       "3    -122.25     37.85                52.0       1274.0           235.0   \n",
       "4    -122.25     37.85                52.0       1627.0           280.0   \n",
       "\n",
       "   population  households  median_income  median_house_value ocean_proximity  \n",
       "0       322.0       126.0         8.3252            452600.0        NEAR BAY  \n",
       "1      2401.0      1138.0         8.3014            358500.0        NEAR BAY  \n",
       "2       496.0       177.0         7.2574            352100.0        NEAR BAY  \n",
       "3       558.0       219.0         5.6431            341300.0        NEAR BAY  \n",
       "4       565.0       259.0         3.8462            342200.0        NEAR BAY  "
      ]
     },
     "execution_count": 13,
     "metadata": {},
     "output_type": "execute_result"
    }
   ],
   "source": [
    "housing.head()"
   ]
  },
  {
   "cell_type": "code",
   "execution_count": 14,
   "id": "49267283",
   "metadata": {},
   "outputs": [],
   "source": [
    "#housing['median_house_value'].hist(bins=50)\n",
    "        \n"
   ]
  },
  {
   "cell_type": "code",
   "execution_count": 15,
   "id": "09846092",
   "metadata": {},
   "outputs": [],
   "source": [
    "#housing['median_income'].hist(bins=50)"
   ]
  },
  {
   "cell_type": "code",
   "execution_count": 16,
   "id": "bca65937",
   "metadata": {},
   "outputs": [],
   "source": [
    "#This help to split your data for training and testing\n",
    "from sklearn.model_selection import train_test_split"
   ]
  },
  {
   "cell_type": "code",
   "execution_count": 17,
   "id": "0e194d01",
   "metadata": {},
   "outputs": [],
   "source": [
    "train_test,test_test = train_test_split(housing,random_state =10 ,shuffle = 10,test_size =.2)"
   ]
  },
  {
   "cell_type": "code",
   "execution_count": 18,
   "id": "784b017e",
   "metadata": {},
   "outputs": [],
   "source": [
    "#(train_test['income_cat'])/len(train_test)"
   ]
  },
  {
   "cell_type": "code",
   "execution_count": 19,
   "id": "359a0203",
   "metadata": {},
   "outputs": [
    {
     "data": {
      "text/plain": [
       "16512"
      ]
     },
     "execution_count": 19,
     "metadata": {},
     "output_type": "execute_result"
    }
   ],
   "source": [
    "len(train_test)"
   ]
  },
  {
   "cell_type": "code",
   "execution_count": null,
   "id": "03e4a6da",
   "metadata": {},
   "outputs": [],
   "source": []
  },
  {
   "cell_type": "code",
   "execution_count": null,
   "id": "617eb6f6",
   "metadata": {},
   "outputs": [],
   "source": [
    "housing.describe()"
   ]
  },
  {
   "cell_type": "code",
   "execution_count": null,
   "id": "14ef6d52",
   "metadata": {},
   "outputs": [],
   "source": [
    "import numpy as np"
   ]
  },
  {
   "cell_type": "code",
   "execution_count": null,
   "id": "f83c7951",
   "metadata": {},
   "outputs": [],
   "source": [
    "housing['income_cat'] = pd.cut(housing['median_income'],bins=[0,1.5,3.0,4.5,6.0,np.inf],\n",
    "                              labels=[1,2,3,4,5])\n",
    "#This method helps to categorize the continous numerical values of different median_incomes\n",
    "#to discrete  numerical values. "
   ]
  },
  {
   "cell_type": "code",
   "execution_count": null,
   "id": "b48cb187",
   "metadata": {},
   "outputs": [],
   "source": [
    "#housing['income_cat'].hist(bins = 30)"
   ]
  },
  {
   "cell_type": "code",
   "execution_count": null,
   "id": "f01aac64",
   "metadata": {},
   "outputs": [],
   "source": [
    "#Overfitting happens when a model performs acurately well on  the testing data, and this is often because \n",
    "#the model learns from the noise in the training data , hence the model doesnt accurately perform well.\n",
    "#The best solution here is to feed in more data to the model \n",
    "##2.try to use a more powerful model during training.\n",
    "##3.you can do cross validation.-by testing your data on a new set of data-."
   ]
  },
  {
   "cell_type": "code",
   "execution_count": null,
   "id": "a1d8531a",
   "metadata": {},
   "outputs": [],
   "source": [
    "#The next step is to stratify the Datasets , so that the Data doesnt return biased.\n",
    "#so that the test set is a good representation of the entire set.this will help\n",
    "#the model in making acurate predictions."
   ]
  },
  {
   "cell_type": "code",
   "execution_count": null,
   "id": "a0b509ab",
   "metadata": {},
   "outputs": [],
   "source": [
    "from sklearn.model_selection import StratifiedShuffleSplit"
   ]
  },
  {
   "cell_type": "code",
   "execution_count": null,
   "id": "05c06135",
   "metadata": {},
   "outputs": [],
   "source": [
    "split =StratifiedShuffleSplit(n_splits=1,\n",
    "    test_size=0.2,\n",
    "    random_state=42)"
   ]
  },
  {
   "cell_type": "code",
   "execution_count": null,
   "id": "3ee2908f",
   "metadata": {},
   "outputs": [],
   "source": [
    "6887676987 + 6241172063"
   ]
  },
  {
   "cell_type": "code",
   "execution_count": null,
   "id": "42af6415",
   "metadata": {},
   "outputs": [],
   "source": [
    "x =6564424525.0"
   ]
  },
  {
   "cell_type": "code",
   "execution_count": null,
   "id": "9c6a0fd7",
   "metadata": {},
   "outputs": [],
   "source": [
    "y = 6887676987 -6564424525\n"
   ]
  },
  {
   "cell_type": "code",
   "execution_count": null,
   "id": "6dc75a8b",
   "metadata": {},
   "outputs": [],
   "source": [
    "13128849050/2"
   ]
  },
  {
   "cell_type": "code",
   "execution_count": null,
   "id": "783baff1",
   "metadata": {},
   "outputs": [],
   "source": [
    "y"
   ]
  },
  {
   "cell_type": "code",
   "execution_count": null,
   "id": "a2d36b7e",
   "metadata": {},
   "outputs": [],
   "source": [
    "A = [i**2 for i (0,n)]"
   ]
  },
  {
   "cell_type": "code",
   "execution_count": null,
   "id": "8a523442",
   "metadata": {},
   "outputs": [],
   "source": []
  },
  {
   "cell_type": "code",
   "execution_count": null,
   "id": "41c60bf5",
   "metadata": {},
   "outputs": [],
   "source": [
    "print( 6564424525 *323252462 )"
   ]
  },
  {
   "cell_type": "code",
   "execution_count": null,
   "id": "57983f7c",
   "metadata": {},
   "outputs": [],
   "source": [
    "2**9"
   ]
  },
  {
   "cell_type": "code",
   "execution_count": null,
   "id": "fe8ce2ec",
   "metadata": {},
   "outputs": [],
   "source": [
    "def nmp(n)\n",
    "i = 0\n",
    "while i < n:\n",
    "    return i**2"
   ]
  },
  {
   "cell_type": "code",
   "execution_count": null,
   "id": "20680ad2",
   "metadata": {},
   "outputs": [],
   "source": [
    "nmp(9)"
   ]
  },
  {
   "cell_type": "code",
   "execution_count": null,
   "id": "6aa15418",
   "metadata": {},
   "outputs": [],
   "source": [
    "6564424525-323252462"
   ]
  },
  {
   "cell_type": "code",
   "execution_count": null,
   "id": "14be2e48",
   "metadata": {},
   "outputs": [],
   "source": [
    "def func(n):\n",
    "    for i in range(0,n):\n",
    "        adam =  i **2\n",
    "    return adam"
   ]
  },
  {
   "cell_type": "code",
   "execution_count": null,
   "id": "b2d2da07",
   "metadata": {},
   "outputs": [],
   "source": [
    "func(9)\n"
   ]
  },
  {
   "cell_type": "code",
   "execution_count": null,
   "id": "1f211a7a",
   "metadata": {},
   "outputs": [],
   "source": [
    "for i in [1,5,1]:\n",
    "    print (i)"
   ]
  },
  {
   "cell_type": "code",
   "execution_count": null,
   "id": "53aa9668",
   "metadata": {},
   "outputs": [],
   "source": [
    "def is_leap(year):\n",
    "    return year % 4 ==0 and ( year %100==0 or year% 100!=0)\n",
    "\n"
   ]
  },
  {
   "cell_type": "code",
   "execution_count": null,
   "id": "c9cb8252",
   "metadata": {},
   "outputs": [],
   "source": [
    "is_leap(2100)"
   ]
  },
  {
   "cell_type": "code",
   "execution_count": null,
   "id": "960c118f",
   "metadata": {},
   "outputs": [],
   "source": [
    "def func(n):\n",
    "    \n",
    "    return (n-1 ==200) "
   ]
  },
  {
   "cell_type": "code",
   "execution_count": null,
   "id": "3f9a915d",
   "metadata": {},
   "outputs": [],
   "source": [
    "func(201)"
   ]
  },
  {
   "cell_type": "code",
   "execution_count": null,
   "id": "75e80319",
   "metadata": {},
   "outputs": [],
   "source": [
    "is_leap(2100)"
   ]
  },
  {
   "cell_type": "code",
   "execution_count": null,
   "id": "af84684b",
   "metadata": {},
   "outputs": [],
   "source": [
    "2100/4"
   ]
  },
  {
   "cell_type": "code",
   "execution_count": null,
   "id": "2e6568f9",
   "metadata": {},
   "outputs": [],
   "source": [
    "for i in range(0,10):\n",
    "    print(i)"
   ]
  },
  {
   "cell_type": "code",
   "execution_count": null,
   "id": "f8cf5a04",
   "metadata": {},
   "outputs": [],
   "source": [
    "3 in range(2,10)"
   ]
  },
  {
   "cell_type": "code",
   "execution_count": null,
   "id": "bb0f82cd",
   "metadata": {},
   "outputs": [],
   "source": [
    "range(1,10,2)"
   ]
  },
  {
   "cell_type": "code",
   "execution_count": null,
   "id": "6872e4ba",
   "metadata": {},
   "outputs": [],
   "source": [
    "6241172063 = x -y"
   ]
  },
  {
   "cell_type": "code",
   "execution_count": null,
   "id": "8539055b",
   "metadata": {},
   "outputs": [],
   "source": []
  },
  {
   "cell_type": "code",
   "execution_count": null,
   "id": "eb163750",
   "metadata": {},
   "outputs": [],
   "source": [
    "housing['income_cat']"
   ]
  },
  {
   "cell_type": "code",
   "execution_count": null,
   "id": "46f43143",
   "metadata": {},
   "outputs": [],
   "source": []
  },
  {
   "cell_type": "code",
   "execution_count": null,
   "id": "a3a9d358",
   "metadata": {},
   "outputs": [],
   "source": [
    "split?"
   ]
  },
  {
   "cell_type": "code",
   "execution_count": null,
   "id": "2c48004f",
   "metadata": {},
   "outputs": [],
   "source": [
    "for test_index,train_index in split.split(housing,housing['income_cat']):\n",
    "    housing_test = housing.loc[test_index]\n",
    "    housing_train = housing.loc[train_index]"
   ]
  },
  {
   "cell_type": "code",
   "execution_count": null,
   "id": "9532fd3c",
   "metadata": {},
   "outputs": [],
   "source": [
    "housing_test"
   ]
  },
  {
   "cell_type": "code",
   "execution_count": null,
   "id": "7cf7e45c",
   "metadata": {},
   "outputs": [],
   "source": [
    "split.split(housing, housing[\"income_cat\"])"
   ]
  },
  {
   "cell_type": "code",
   "execution_count": null,
   "id": "75ac4687",
   "metadata": {},
   "outputs": [],
   "source": [
    "housing"
   ]
  },
  {
   "cell_type": "code",
   "execution_count": null,
   "id": "3c753693",
   "metadata": {},
   "outputs": [],
   "source": []
  },
  {
   "cell_type": "code",
   "execution_count": null,
   "id": "10e5803b",
   "metadata": {},
   "outputs": [],
   "source": []
  },
  {
   "cell_type": "code",
   "execution_count": null,
   "id": "8801c4c4",
   "metadata": {},
   "outputs": [],
   "source": [
    "test_test.shape"
   ]
  },
  {
   "cell_type": "code",
   "execution_count": null,
   "id": "b05d7a1b",
   "metadata": {},
   "outputs": [],
   "source": [
    "#housing['longitude'].isnull"
   ]
  },
  {
   "cell_type": "code",
   "execution_count": null,
   "id": "6a0fe3dd",
   "metadata": {},
   "outputs": [],
   "source": [
    "#housing.hist(bins = 50, figsize=(2,20))"
   ]
  },
  {
   "cell_type": "code",
   "execution_count": null,
   "id": "6e9d592e",
   "metadata": {},
   "outputs": [],
   "source": [
    "import numpy as np"
   ]
  },
  {
   "cell_type": "code",
   "execution_count": null,
   "id": "8c4a3109",
   "metadata": {},
   "outputs": [],
   "source": [
    "housing.loc?"
   ]
  },
  {
   "cell_type": "code",
   "execution_count": null,
   "id": "82a20ef5",
   "metadata": {},
   "outputs": [],
   "source": [
    "L = [2,4,12,18,92,7,3,0]\n",
    "n = len(L)"
   ]
  },
  {
   "cell_type": "code",
   "execution_count": null,
   "id": "ff96b89c",
   "metadata": {},
   "outputs": [],
   "source": [
    "# programs to find the smallest_num"
   ]
  },
  {
   "cell_type": "code",
   "execution_count": null,
   "id": "1c2f2604",
   "metadata": {},
   "outputs": [],
   "source": [
    "n"
   ]
  },
  {
   "cell_type": "code",
   "execution_count": null,
   "id": "a3ec2025",
   "metadata": {},
   "outputs": [],
   "source": [
    "def Find_Min(L,n):\n",
    "    min = L[0]\n",
    "    counter = 1\n",
    "    idx = 2\n",
    "    while counter < n:\n",
    "        Values = L[counter]\n",
    "        if Values < min:\n",
    "                min =Values\n",
    "                idx = counter\n",
    "        else:\n",
    "            pass\n",
    "        \n",
    "    \n",
    "    \n",
    "    \n",
    "        counter = counter + 1\n",
    "    return min,idx\n"
   ]
  },
  {
   "cell_type": "code",
   "execution_count": null,
   "id": "6d2b2121",
   "metadata": {},
   "outputs": [],
   "source": [
    "Find_Min(L,n)"
   ]
  },
  {
   "cell_type": "code",
   "execution_count": null,
   "id": "fcc03cee",
   "metadata": {},
   "outputs": [],
   "source": [
    "#ef Find_Min(L):# defin min using a for loop statement\n",
    "   #in = L[0]\n",
    "   \n",
    "   #for i in L:\n",
    "    #   if i < min:\n",
    "     #      Values =i\n",
    "            \n",
    "            \n",
    "      #     min =Values\n",
    "         \n",
    "            \n",
    "        \n",
    "            \n",
    "    \n",
    "        \n",
    "    \n",
    "    \n",
    "#   return print(f\"the min value is {min}\")"
   ]
  },
  {
   "cell_type": "code",
   "execution_count": null,
   "id": "6625b7f2",
   "metadata": {},
   "outputs": [],
   "source": [
    "L = [5,4,11,10,-23,7,23,34,9]\n",
    "n = len(L)"
   ]
  },
  {
   "cell_type": "code",
   "execution_count": null,
   "id": "f093186b",
   "metadata": {},
   "outputs": [],
   "source": []
  },
  {
   "cell_type": "code",
   "execution_count": null,
   "id": "d4495c33",
   "metadata": {},
   "outputs": [],
   "source": [
    "#use control left block bracket or right backet to shift the cells right or left\n",
    "Total_score = int(input(\"Total score in exam:\"))\n",
    "if  (Total_score >=85 and  Total_score <100.0):\n",
    "    print(F\"Total_score is A\" )\n",
    "elif (Total_score>=70  and  Total_score<85):\n",
    "    print(\"Total_score is B\")\n",
    "else:\n",
    "    print(\"Total_score is average\")\n",
    "    print(f\"Total_score is :{Total_score}\")    \n",
    "    "
   ]
  },
  {
   "cell_type": "code",
   "execution_count": null,
   "id": "acb13368",
   "metadata": {},
   "outputs": [],
   "source": [
    "import numpy as np\n",
    "import matplotlib.pyplot as plt"
   ]
  },
  {
   "cell_type": "code",
   "execution_count": null,
   "id": "a322803b",
   "metadata": {},
   "outputs": [],
   "source": [
    "y = np.random.randint(10)"
   ]
  },
  {
   "cell_type": "code",
   "execution_count": null,
   "id": "96d940b1",
   "metadata": {},
   "outputs": [],
   "source": [
    "N = [i for i in range(np.random.randint(20)) if i%2==0]"
   ]
  },
  {
   "cell_type": "code",
   "execution_count": null,
   "id": "cd90bd18",
   "metadata": {},
   "outputs": [],
   "source": [
    "# Using for loop to return the minimju value in a list and the position\n",
    "m = N[0]\n",
    "idx = 0\n",
    "counter = 1\n",
    "for x in N:\n",
    "    if x < m:\n",
    "        m = x\n",
    "        counter = idx\n",
    "        \n",
    "    else:\n",
    "        pass\n",
    "    idx = idx + 1\n",
    "\n",
    "print(m,counter)   "
   ]
  },
  {
   "cell_type": "code",
   "execution_count": null,
   "id": "d20ed92e",
   "metadata": {},
   "outputs": [],
   "source": [
    "#Using the while loop to return the minimum value and its position\n",
    "m = N[0]\n",
    "idx = 0\n",
    "counter = 0\n",
    "while idx < len(N) :\n",
    "    if N[idx]< m:\n",
    "        m = N[idx]\n",
    "        counter = idx\n",
    "        \n",
    "        \n",
    "    else:\n",
    "        pass\n",
    "        \n",
    "    idx =idx + 1\n",
    "    \n",
    "# print(m,counter)"
   ]
  },
  {
   "cell_type": "code",
   "execution_count": null,
   "id": "b2a1577e",
   "metadata": {},
   "outputs": [],
   "source": [
    "N = [15,12, 3, -6]\n",
    "N"
   ]
  },
  {
   "cell_type": "code",
   "execution_count": null,
   "id": "1fb47b38",
   "metadata": {},
   "outputs": [],
   "source": [
    "# Using for loop to return the minimju value in a list and the position\n",
    "for J in range(len(N)):\n",
    "    m = N[J]\n",
    "    idx = J\n",
    "    counter = J\n",
    "\n",
    "\n",
    "    for i in range(J,len(N)):\n",
    "        if N[i] < m:\n",
    "            m = N[i]\n",
    "            counter = idx\n",
    "\n",
    "        else:\n",
    "            pass\n",
    "        idx = idx + 1\n",
    "\n",
    "    temp = N[J]    \n",
    "    N[J]= m\n",
    "    N[counter] = temp\n",
    "\n",
    "print(N)     \n",
    "#This loop works perfectly fine\n",
    "\n",
    "\n"
   ]
  },
  {
   "cell_type": "code",
   "execution_count": null,
   "id": "c8007e0d",
   "metadata": {},
   "outputs": [],
   "source": [
    "\n",
    "for j in range(len(N)):\n",
    "    m = N[j]\n",
    "    idx = j\n",
    "    p = j\n",
    "    \n",
    "\n",
    "    for i in range(j,(len(N))):\n",
    "        if N[i] < m:\n",
    "            m = N[i]\n",
    "            idx = p\n",
    "        else:\n",
    "            pass\n",
    "        p = p + 1\n",
    "\n",
    "    temp = N[j]\n",
    "    N[j] = m\n",
    "    N[idx] = temp\n",
    "\n",
    "print(N)"
   ]
  },
  {
   "cell_type": "code",
   "execution_count": null,
   "id": "b4dbd241",
   "metadata": {},
   "outputs": [],
   "source": [
    "\"\"\"this funcn is nothing\"\"\""
   ]
  },
  {
   "cell_type": "code",
   "execution_count": null,
   "id": "c2e11bd5",
   "metadata": {},
   "outputs": [],
   "source": [
    "isinstance(N,list)"
   ]
  },
  {
   "cell_type": "code",
   "execution_count": null,
   "id": "dd95d643",
   "metadata": {},
   "outputs": [],
   "source": [
    "def myfunc():\n",
    "    \n",
    "    \"\"\"this functn define the input and print out Hello as the output\"\"\"\n",
    "    print(f\"i am Jehovah,the alpha and the omega\")"
   ]
  },
  {
   "cell_type": "code",
   "execution_count": null,
   "id": "5464a034",
   "metadata": {},
   "outputs": [],
   "source": [
    "myfunc()"
   ]
  },
  {
   "cell_type": "code",
   "execution_count": null,
   "id": "ce081bb8",
   "metadata": {},
   "outputs": [],
   "source": [
    "def sumupfunc(*values):\n",
    "    sum = 0\n",
    "    for i in range(len(values)):\n",
    "        sum+=values[i]\n",
    "    return sum    \n",
    "\n",
    "def checkargs(**args):\n",
    "   \n",
    "    \n",
    "    for i in args:\n",
    "        if isinstance (args,(dict,list)):\n",
    "            \n",
    "            True\n",
    "    \n",
    "    return False    "
   ]
  },
  {
   "cell_type": "code",
   "execution_count": null,
   "id": "3f5592c0",
   "metadata": {},
   "outputs": [],
   "source": [
    " Name =str(input(\"please,submit your name:\"))\n",
    "    \n",
    "if isinstance(Name,(str,float)):\n",
    "    print(f\"you are good to go:{Name}\")"
   ]
  },
  {
   "cell_type": "code",
   "execution_count": null,
   "id": "eed6b566",
   "metadata": {},
   "outputs": [],
   "source": [
    "help(isinstance)"
   ]
  },
  {
   "cell_type": "code",
   "execution_count": null,
   "id": "50714aed",
   "metadata": {},
   "outputs": [],
   "source": [
    "def valuesnpositn(*pipe):\n",
    "    \n",
    "    \"\"\" This func helps to return the value of all numbers and the positn in the list\"\"\"\n",
    "    L =[]\n",
    "    idx = 0\n",
    "    \n",
    "    for i in (pipe):\n",
    "        L.append((i,idx))\n",
    "                 \n",
    "        idx = idx + 1 \n",
    "    \n",
    "    return L"
   ]
  },
  {
   "cell_type": "code",
   "execution_count": null,
   "id": "c87df709",
   "metadata": {},
   "outputs": [],
   "source": [
    "def func_post_val(L):\n",
    "    \"\"\"this function takes list is an argument and returns all the values in that list and the position they occupy\"\"\"\n",
    "    \n",
    "    G =[]\n",
    "    idx = 0\n",
    "    for i in L:\n",
    "        G.append((i,idx))\n",
    "        idx = idx + 1\n",
    "        \n",
    "        \n",
    "    return G"
   ]
  },
  {
   "cell_type": "code",
   "execution_count": null,
   "id": "db2bcb59",
   "metadata": {},
   "outputs": [],
   "source": [
    "func_post_val([2,4,2,3,10])"
   ]
  },
  {
   "cell_type": "code",
   "execution_count": null,
   "id": "c574957b",
   "metadata": {},
   "outputs": [],
   "source": [
    "L = valuesnpositn(2,3,7,0,10)"
   ]
  },
  {
   "cell_type": "code",
   "execution_count": null,
   "id": "4d4f61ef",
   "metadata": {},
   "outputs": [],
   "source": [
    "L"
   ]
  },
  {
   "cell_type": "code",
   "execution_count": null,
   "id": "e0361184",
   "metadata": {},
   "outputs": [],
   "source": [
    "for i in L:\n",
    "    for j in i:\n",
    "        print((j,i))"
   ]
  },
  {
   "cell_type": "code",
   "execution_count": null,
   "id": "b7794e81",
   "metadata": {},
   "outputs": [],
   "source": [
    "type(valuesnpositn(*pipe))"
   ]
  },
  {
   "cell_type": "code",
   "execution_count": null,
   "id": "b518db57",
   "metadata": {},
   "outputs": [],
   "source": [
    "A =[2,3,7,0,10]"
   ]
  },
  {
   "cell_type": "code",
   "execution_count": null,
   "id": "311de07f",
   "metadata": {},
   "outputs": [],
   "source": []
  },
  {
   "cell_type": "code",
   "execution_count": null,
   "id": "e1b82da0",
   "metadata": {},
   "outputs": [],
   "source": [
    "list1 = [79,2,4]"
   ]
  },
  {
   "cell_type": "code",
   "execution_count": null,
   "id": "22d44275",
   "metadata": {},
   "outputs": [],
   "source": []
  },
  {
   "cell_type": "code",
   "execution_count": null,
   "id": "bcc26dd2",
   "metadata": {},
   "outputs": [],
   "source": []
  },
  {
   "cell_type": "code",
   "execution_count": null,
   "id": "79f98088",
   "metadata": {},
   "outputs": [],
   "source": []
  },
  {
   "cell_type": "code",
   "execution_count": null,
   "id": "bd9be04e",
   "metadata": {},
   "outputs": [],
   "source": [
    "help(isinstance)"
   ]
  },
  {
   "cell_type": "code",
   "execution_count": null,
   "id": "5921da29",
   "metadata": {},
   "outputs": [],
   "source": [
    "def variablesandvalues(**args):\n",
    "    \"\"\"this function works for dictionaries a it print out the variables and the function for any dictionary\"\"\"\n",
    "    \n",
    "    for i in args:\n",
    "        print(\"the variable name of the arguments is\",i,\" and the name of the value is \",args[i])"
   ]
  },
  {
   "cell_type": "code",
   "execution_count": null,
   "id": "f7017310",
   "metadata": {},
   "outputs": [],
   "source": [
    "variablesandvalues(A=4,B='where are u?',c='dem dem',d = [1,\"2\",4])"
   ]
  },
  {
   "cell_type": "code",
   "execution_count": null,
   "id": "59b1509d",
   "metadata": {},
   "outputs": [],
   "source": [
    "Jim"
   ]
  },
  {
   "cell_type": "code",
   "execution_count": null,
   "id": "b5435f88",
   "metadata": {},
   "outputs": [],
   "source": [
    "Jim"
   ]
  },
  {
   "cell_type": "code",
   "execution_count": null,
   "id": "ca3fea63",
   "metadata": {},
   "outputs": [],
   "source": [
    "b =sumupfunc(2,4,5,8,10,10//2)"
   ]
  },
  {
   "cell_type": "code",
   "execution_count": null,
   "id": "5bbfe456",
   "metadata": {},
   "outputs": [],
   "source": [
    "x = 10"
   ]
  },
  {
   "cell_type": "code",
   "execution_count": null,
   "id": "44228adb",
   "metadata": {},
   "outputs": [],
   "source": [
    "print(\"my function name is real func\",x)"
   ]
  },
  {
   "cell_type": "code",
   "execution_count": null,
   "id": "82a9f11a",
   "metadata": {},
   "outputs": [],
   "source": [
    "Jim"
   ]
  },
  {
   "cell_type": "code",
   "execution_count": null,
   "id": "c4ecba1b",
   "metadata": {},
   "outputs": [],
   "source": [
    "#This is how to use the import mod\n",
    "import sys\n",
    "sys.path.append('C:/mypython file/') \n",
    "import myfunc as mf\n"
   ]
  },
  {
   "cell_type": "code",
   "execution_count": null,
   "id": "06ba63b2",
   "metadata": {},
   "outputs": [],
   "source": [
    "mf.valuesnpositn(2,3,10,14,19)"
   ]
  },
  {
   "cell_type": "code",
   "execution_count": null,
   "id": "a79902cd",
   "metadata": {},
   "outputs": [],
   "source": [
    "mf.func_post_val([2,4,5,2,8])"
   ]
  },
  {
   "cell_type": "code",
   "execution_count": null,
   "id": "bd66d356",
   "metadata": {},
   "outputs": [],
   "source": [
    "import numpy as np\n",
    "import seaborn as jp"
   ]
  },
  {
   "cell_type": "code",
   "execution_count": null,
   "id": "cac9b0dc",
   "metadata": {},
   "outputs": [],
   "source": []
  },
  {
   "cell_type": "code",
   "execution_count": null,
   "id": "2176218a",
   "metadata": {},
   "outputs": [],
   "source": [
    "X = np.random.rand(10)"
   ]
  },
  {
   "cell_type": "code",
   "execution_count": null,
   "id": "fbcc30f0",
   "metadata": {},
   "outputs": [],
   "source": [
    "X"
   ]
  },
  {
   "cell_type": "code",
   "execution_count": null,
   "id": "367bf45a",
   "metadata": {},
   "outputs": [],
   "source": [
    "Y = np.array([i for i in range(10)])"
   ]
  },
  {
   "cell_type": "code",
   "execution_count": null,
   "id": "2836ea5a",
   "metadata": {},
   "outputs": [],
   "source": [
    "Y"
   ]
  },
  {
   "cell_type": "code",
   "execution_count": null,
   "id": "5de78fe6",
   "metadata": {},
   "outputs": [],
   "source": [
    "counter"
   ]
  },
  {
   "cell_type": "code",
   "execution_count": null,
   "id": "abcd005a",
   "metadata": {},
   "outputs": [],
   "source": [
    "plt.scatter(x=X,y=Y)"
   ]
  },
  {
   "cell_type": "code",
   "execution_count": null,
   "id": "4fa3522a",
   "metadata": {},
   "outputs": [],
   "source": [
    "plt.hist(X,bins=5\n",
    "        )"
   ]
  },
  {
   "cell_type": "code",
   "execution_count": null,
   "id": "846d77fc",
   "metadata": {},
   "outputs": [],
   "source": [
    "# the method strip,split,upper,lower only works on strings\n",
    "text = '    what is your name    '"
   ]
  },
  {
   "cell_type": "code",
   "execution_count": null,
   "id": "04796fef",
   "metadata": {},
   "outputs": [],
   "source": [
    "text[::2]"
   ]
  },
  {
   "cell_type": "code",
   "execution_count": null,
   "id": "5217ef95",
   "metadata": {},
   "outputs": [],
   "source": []
  },
  {
   "cell_type": "code",
   "execution_count": null,
   "id": "8f335e73",
   "metadata": {},
   "outputs": [],
   "source": [
    "text.strip()"
   ]
  },
  {
   "cell_type": "code",
   "execution_count": null,
   "id": "affbef95",
   "metadata": {},
   "outputs": [],
   "source": [
    "text.upper()"
   ]
  },
  {
   "cell_type": "code",
   "execution_count": null,
   "id": "74f0c489",
   "metadata": {},
   "outputs": [],
   "source": [
    "text.replace(' what is','give us')"
   ]
  },
  {
   "cell_type": "code",
   "execution_count": null,
   "id": "1e2d5971",
   "metadata": {},
   "outputs": [],
   "source": [
    "# the splt method returns a list of strings where the corrector specify the postn of d element and does work on string.\n",
    "A = \"Rotimikolawole93@gmail.com\" "
   ]
  },
  {
   "cell_type": "raw",
   "id": "0bfd1b63",
   "metadata": {},
   "source": [
    "print(A.split(\"@\"))"
   ]
  },
  {
   "cell_type": "code",
   "execution_count": null,
   "id": "34d79c18",
   "metadata": {},
   "outputs": [],
   "source": [
    "A"
   ]
  },
  {
   "cell_type": "markdown",
   "id": "ad21e9ef",
   "metadata": {},
   "source": [
    "jes"
   ]
  },
  {
   "cell_type": "code",
   "execution_count": null,
   "id": "5fded1a9",
   "metadata": {},
   "outputs": [],
   "source": [
    "split?"
   ]
  },
  {
   "cell_type": "code",
   "execution_count": null,
   "id": "713b4a38",
   "metadata": {},
   "outputs": [],
   "source": [
    "list1 = [('John dumelo',34,454),('My God is awesome')]"
   ]
  },
  {
   "cell_type": "code",
   "execution_count": null,
   "id": "17f6e0db",
   "metadata": {},
   "outputs": [],
   "source": [
    "List_2 = ['A','B','A',45]"
   ]
  },
  {
   "cell_type": "code",
   "execution_count": null,
   "id": "73e97c64",
   "metadata": {},
   "outputs": [],
   "source": [
    "[(i,List_2.count(i)) for i in set(List_2)]"
   ]
  },
  {
   "cell_type": "code",
   "execution_count": null,
   "id": "97c76521",
   "metadata": {},
   "outputs": [],
   "source": [
    "List_2.count('A')"
   ]
  },
  {
   "cell_type": "code",
   "execution_count": null,
   "id": "a10f1d17",
   "metadata": {},
   "outputs": [],
   "source": [
    "from collections import Counter"
   ]
  },
  {
   "cell_type": "code",
   "execution_count": null,
   "id": "845552e2",
   "metadata": {},
   "outputs": [],
   "source": []
  },
  {
   "cell_type": "code",
   "execution_count": null,
   "id": "3f28b146",
   "metadata": {},
   "outputs": [],
   "source": []
  },
  {
   "cell_type": "code",
   "execution_count": null,
   "id": "7580216f",
   "metadata": {},
   "outputs": [],
   "source": [
    "list_counter =[]\n",
    "for counter in List_2:\n",
    "    list_counter.append((counter,List_2.count(counter)))\n",
    "    \n"
   ]
  },
  {
   "cell_type": "code",
   "execution_count": null,
   "id": "6f8d084f",
   "metadata": {},
   "outputs": [],
   "source": []
  },
  {
   "cell_type": "code",
   "execution_count": null,
   "id": "24b24610",
   "metadata": {},
   "outputs": [],
   "source": [
    "tuppleE = tuple(List_2)"
   ]
  },
  {
   "cell_type": "code",
   "execution_count": null,
   "id": "c9588c66",
   "metadata": {},
   "outputs": [],
   "source": [
    "List_2"
   ]
  },
  {
   "cell_type": "code",
   "execution_count": null,
   "id": "c51df93d",
   "metadata": {},
   "outputs": [],
   "source": [
    "counter_list = [(i,List_2.count(i)) for i in set(List_2)]# Good, i got it there,This code here helps u with the no of times each elt occurs in \n",
    "# in the LIst,you can as well use counter also, by importing Counter from collections"
   ]
  },
  {
   "cell_type": "code",
   "execution_count": null,
   "id": "ca9a9e67",
   "metadata": {},
   "outputs": [],
   "source": [
    "counter_list.sort(key = lambda x:x[1], reverse = True)"
   ]
  },
  {
   "cell_type": "code",
   "execution_count": null,
   "id": "3189e998",
   "metadata": {},
   "outputs": [],
   "source": [
    "counter_list"
   ]
  },
  {
   "cell_type": "code",
   "execution_count": null,
   "id": "4cb47b9c",
   "metadata": {},
   "outputs": [],
   "source": [
    "list_counter"
   ]
  },
  {
   "cell_type": "code",
   "execution_count": null,
   "id": "25da6336",
   "metadata": {},
   "outputs": [],
   "source": [
    "from itertools import permutations"
   ]
  },
  {
   "cell_type": "code",
   "execution_count": null,
   "id": "5f0e0119",
   "metadata": {},
   "outputs": [],
   "source": [
    "perm = permutations([2,0,1],2)\n"
   ]
  },
  {
   "cell_type": "code",
   "execution_count": null,
   "id": "47c0f102",
   "metadata": {},
   "outputs": [],
   "source": [
    "perm_comp = [i for i in perm]"
   ]
  },
  {
   "cell_type": "code",
   "execution_count": null,
   "id": "91cec8cb",
   "metadata": {},
   "outputs": [],
   "source": [
    "perm_comp"
   ]
  },
  {
   "cell_type": "code",
   "execution_count": null,
   "id": "4b80171d",
   "metadata": {},
   "outputs": [],
   "source": [
    "import numpy as np"
   ]
  },
  {
   "cell_type": "code",
   "execution_count": null,
   "id": "67cb0311",
   "metadata": {},
   "outputs": [],
   "source": [
    "#np.arange?"
   ]
  },
  {
   "cell_type": "code",
   "execution_count": null,
   "id": "dd272b10",
   "metadata": {},
   "outputs": [],
   "source": [
    "# lets parse a string into a numpy , that will convert strings into a numpy object with dtpe =int"
   ]
  },
  {
   "cell_type": "code",
   "execution_count": null,
   "id": "9388299e",
   "metadata": {},
   "outputs": [],
   "source": [
    "string_val = int('12345455566') "
   ]
  },
  {
   "cell_type": "code",
   "execution_count": null,
   "id": "d861a35b",
   "metadata": {},
   "outputs": [],
   "source": [
    "gis = '1,2,3'"
   ]
  },
  {
   "cell_type": "code",
   "execution_count": null,
   "id": "7c6ab679",
   "metadata": {},
   "outputs": [],
   "source": [
    "k = 1,2,4"
   ]
  },
  {
   "cell_type": "code",
   "execution_count": null,
   "id": "c01570ab",
   "metadata": {},
   "outputs": [],
   "source": []
  },
  {
   "cell_type": "code",
   "execution_count": null,
   "id": "1c122513",
   "metadata": {},
   "outputs": [],
   "source": [
    "p = (1,2,4)"
   ]
  },
  {
   "cell_type": "code",
   "execution_count": null,
   "id": "05651dd1",
   "metadata": {},
   "outputs": [],
   "source": [
    "type(p)"
   ]
  },
  {
   "cell_type": "code",
   "execution_count": null,
   "id": "81d61729",
   "metadata": {},
   "outputs": [],
   "source": [
    "np.random.permutation(10).reshape(2,5)"
   ]
  },
  {
   "cell_type": "code",
   "execution_count": null,
   "id": "46bbacae",
   "metadata": {},
   "outputs": [],
   "source": [
    "for i in np.random.permutation(np.arange(3).reshape(3,)):\n",
    "    print(np.array(i).reshape(1))"
   ]
  },
  {
   "cell_type": "code",
   "execution_count": null,
   "id": "6abb697d",
   "metadata": {},
   "outputs": [],
   "source": [
    "#for i in permutations(range(0,10),2):\n",
    "   # print(np.array(i).reshape(2,))"
   ]
  },
  {
   "cell_type": "code",
   "execution_count": null,
   "id": "5ebc8253",
   "metadata": {},
   "outputs": [],
   "source": [
    "type(permutations(np.arange(10)))"
   ]
  },
  {
   "cell_type": "code",
   "execution_count": null,
   "id": "cb637345",
   "metadata": {},
   "outputs": [],
   "source": [
    "np.random.permutation((0,4,1)).reshape(3,)"
   ]
  },
  {
   "cell_type": "code",
   "execution_count": null,
   "id": "633df11c",
   "metadata": {},
   "outputs": [],
   "source": [
    "np.arange(2)"
   ]
  },
  {
   "cell_type": "code",
   "execution_count": null,
   "id": "e9412295",
   "metadata": {},
   "outputs": [],
   "source": [
    "np.random.permutation?"
   ]
  },
  {
   "cell_type": "code",
   "execution_count": null,
   "id": "6c066b81",
   "metadata": {},
   "outputs": [],
   "source": [
    "for i in permutations([1,2,0]):\n",
    "    print(list(np.array(i)))"
   ]
  },
  {
   "cell_type": "code",
   "execution_count": null,
   "id": "51dda607",
   "metadata": {},
   "outputs": [],
   "source": [
    "np.random.permutation((0,0,1))"
   ]
  },
  {
   "cell_type": "code",
   "execution_count": null,
   "id": "55c6298d",
   "metadata": {},
   "outputs": [],
   "source": [
    "list_1 = range(10)"
   ]
  },
  {
   "cell_type": "code",
   "execution_count": null,
   "id": "56628616",
   "metadata": {},
   "outputs": [],
   "source": [
    "list_2 = range(10)"
   ]
  },
  {
   "cell_type": "code",
   "execution_count": null,
   "id": "bd886a2e",
   "metadata": {},
   "outputs": [],
   "source": [
    "list_3 = range(10)"
   ]
  },
  {
   "cell_type": "code",
   "execution_count": null,
   "id": "d214cca0",
   "metadata": {},
   "outputs": [],
   "source": [
    "x, y, z, n = (int(input()) for _ in range(4)) "
   ]
  },
  {
   "cell_type": "code",
   "execution_count": 22,
   "id": "3725ee53",
   "metadata": {},
   "outputs": [],
   "source": [
    "import numpy as np"
   ]
  },
  {
   "cell_type": "code",
   "execution_count": 152,
   "id": "56f4ddfb",
   "metadata": {},
   "outputs": [],
   "source": [
    "b = list(set(np.array((2,3,6,6,5))))"
   ]
  },
  {
   "cell_type": "code",
   "execution_count": 162,
   "id": "4a7cc3f8",
   "metadata": {},
   "outputs": [],
   "source": [
    "D = sorted(b,reverse = True)"
   ]
  },
  {
   "cell_type": "code",
   "execution_count": 165,
   "id": "976d75df",
   "metadata": {},
   "outputs": [
    {
     "data": {
      "text/plain": [
       "5"
      ]
     },
     "execution_count": 165,
     "metadata": {},
     "output_type": "execute_result"
    }
   ],
   "source": [
    "D[1]"
   ]
  },
  {
   "cell_type": "code",
   "execution_count": 166,
   "id": "0cdca401",
   "metadata": {},
   "outputs": [
    {
     "name": "stdout",
     "output_type": "stream",
     "text": [
      "Rotimi\n",
      "45\n"
     ]
    }
   ],
   "source": [
    "Name =input()\n",
    "Score = float(input())"
   ]
  },
  {
   "cell_type": "code",
   "execution_count": null,
   "id": "6f6d763a",
   "metadata": {},
   "outputs": [],
   "source": [
    "     \n",
    "        "
   ]
  },
  {
   "cell_type": "code",
   "execution_count": 2,
   "id": "3ec8b7b0",
   "metadata": {},
   "outputs": [],
   "source": [
    "Name = ['Rotimi','Kingsley','Ikechukwu','Mira']"
   ]
  },
  {
   "cell_type": "code",
   "execution_count": 3,
   "id": "0516f442",
   "metadata": {},
   "outputs": [],
   "source": [
    "Scores = [89,72,80,72]\n"
   ]
  },
  {
   "cell_type": "code",
   "execution_count": 4,
   "id": "65cf76bb",
   "metadata": {},
   "outputs": [],
   "source": [
    "List_list = [[i,j] for i,j in zip(Name,Scores)]\n",
    "List_list.sort(key = lambda x:x[1],reverse = True)\n",
    "\n"
   ]
  },
  {
   "cell_type": "code",
   "execution_count": 5,
   "id": "8cd6cf9c",
   "metadata": {},
   "outputs": [
    {
     "data": {
      "text/plain": [
       "[['Rotimi', 89], ['Ikechukwu', 80], ['Kingsley', 72], ['Mira', 72]]"
      ]
     },
     "execution_count": 5,
     "metadata": {},
     "output_type": "execute_result"
    }
   ],
   "source": [
    "List_list"
   ]
  },
  {
   "cell_type": "code",
   "execution_count": 6,
   "id": "3f2f1492",
   "metadata": {},
   "outputs": [
    {
     "name": "stdout",
     "output_type": "stream",
     "text": [
      "Kingsley\n",
      "Mira\n"
     ]
    }
   ],
   "source": [
    "\n",
    "    if List_list[len(List_list)-1][1] == List_list[len(List_list)-2][1]:\n",
    "        print(List_list[len(List_list)-2][0])\n",
    "        print(List_list[len(List_list)-1][0])\n",
    "    elif  List_list[len(List_list)-1] < List_list[len(List_list)-2]:\n",
    "            print(List_list[len(List_list)-1][0])    \n",
    "        \n",
    "        "
   ]
  },
  {
   "cell_type": "code",
   "execution_count": 29,
   "id": "d591368b",
   "metadata": {},
   "outputs": [
    {
     "name": "stdout",
     "output_type": "stream",
     "text": [
      "gbenga\n",
      "67\n"
     ]
    }
   ],
   "source": [
    "name = [(input())]\n",
    "score = [float(input())]"
   ]
  },
  {
   "cell_type": "code",
   "execution_count": 51,
   "id": "6b15cd02",
   "metadata": {},
   "outputs": [
    {
     "name": "stdout",
     "output_type": "stream",
     "text": [
      "2\n",
      "Enter names: Rotimi\n",
      "Enter numbers: 76\n",
      "Enter names: mira\n",
      "Enter numbers: 54\n"
     ]
    }
   ],
   "source": [
    "for _ in range(int(input())):\n",
    "   \n",
    "    name = [str(_) for _ in input('Enter names: ').split()]\n",
    "    score = [int(_) for _ in input('Enter numbers: ').split()]\n",
    "    \n",
    "            "
   ]
  },
  {
   "cell_type": "code",
   "execution_count": 52,
   "id": "3d54131f",
   "metadata": {},
   "outputs": [
    {
     "data": {
      "text/plain": [
       "['mira']"
      ]
     },
     "execution_count": 52,
     "metadata": {},
     "output_type": "execute_result"
    }
   ],
   "source": [
    "name"
   ]
  },
  {
   "cell_type": "code",
   "execution_count": null,
   "id": "3a12e701",
   "metadata": {},
   "outputs": [],
   "source": [
    "name = []\n",
    "score =[]\n",
    "for _ in range(0,int(input())):\n",
    "    name.append([input()])\n",
    "    score.append([input()])\n",
    "    "
   ]
  },
  {
   "cell_type": "code",
   "execution_count": 57,
   "id": "dc5e2756",
   "metadata": {},
   "outputs": [
    {
     "data": {
      "text/plain": [
       "[['rotimi'], ['segun']]"
      ]
     },
     "execution_count": 57,
     "metadata": {},
     "output_type": "execute_result"
    }
   ],
   "source": [
    "name"
   ]
  },
  {
   "cell_type": "code",
   "execution_count": 55,
   "id": "d503a824",
   "metadata": {},
   "outputs": [
    {
     "data": {
      "text/plain": [
       "[['rotimi', 23.0], ['tim', 12.0]]"
      ]
     },
     "execution_count": 55,
     "metadata": {},
     "output_type": "execute_result"
    }
   ],
   "source": [
    "marksheet"
   ]
  },
  {
   "cell_type": "code",
   "execution_count": null,
   "id": "2afbb481",
   "metadata": {},
   "outputs": [],
   "source": [
    "[['rotimi', 23.0], ['tim', 12.0]]"
   ]
  },
  {
   "cell_type": "code",
   "execution_count": 48,
   "id": "16b78129",
   "metadata": {},
   "outputs": [
    {
     "name": "stdout",
     "output_type": "stream",
     "text": [
      "Enter numbers: 34 434 45 45\n"
     ]
    }
   ],
   "source": [
    "numbers = [int(n) for n in input('Enter numbers: ').split()]\n"
   ]
  },
  {
   "cell_type": "code",
   "execution_count": 49,
   "id": "f492e500",
   "metadata": {},
   "outputs": [
    {
     "data": {
      "text/plain": [
       "[34, 434, 45, 45]"
      ]
     },
     "execution_count": 49,
     "metadata": {},
     "output_type": "execute_result"
    }
   ],
   "source": [
    "numbers"
   ]
  },
  {
   "cell_type": "code",
   "execution_count": 30,
   "id": "2227b44b",
   "metadata": {},
   "outputs": [
    {
     "data": {
      "text/plain": [
       "['gbenga']"
      ]
     },
     "execution_count": 30,
     "metadata": {},
     "output_type": "execute_result"
    }
   ],
   "source": [
    "name"
   ]
  },
  {
   "cell_type": "code",
   "execution_count": 31,
   "id": "9789f771",
   "metadata": {},
   "outputs": [
    {
     "data": {
      "text/plain": [
       "[67.0]"
      ]
     },
     "execution_count": 31,
     "metadata": {},
     "output_type": "execute_result"
    }
   ],
   "source": [
    "score"
   ]
  },
  {
   "cell_type": "code",
   "execution_count": 1,
   "id": "3a44d8ea",
   "metadata": {},
   "outputs": [
    {
     "name": "stdout",
     "output_type": "stream",
     "text": [
      "2\n",
      "rotimi\n",
      "32\n"
     ]
    },
    {
     "ename": "IndexError",
     "evalue": "list index out of range",
     "output_type": "error",
     "traceback": [
      "\u001b[1;31m---------------------------------------------------------------------------\u001b[0m",
      "\u001b[1;31mIndexError\u001b[0m                                Traceback (most recent call last)",
      "\u001b[1;32m<ipython-input-1-edaf09a645ce>\u001b[0m in \u001b[0;36m<module>\u001b[1;34m\u001b[0m\n\u001b[0;32m      9\u001b[0m \u001b[1;33m\u001b[0m\u001b[0m\n\u001b[0;32m     10\u001b[0m     \u001b[0mList_list\u001b[0m\u001b[1;33m.\u001b[0m\u001b[0msort\u001b[0m\u001b[1;33m(\u001b[0m\u001b[0mkey\u001b[0m \u001b[1;33m=\u001b[0m \u001b[1;32mlambda\u001b[0m \u001b[0mx\u001b[0m\u001b[1;33m:\u001b[0m\u001b[0mx\u001b[0m\u001b[1;33m[\u001b[0m\u001b[1;36m1\u001b[0m\u001b[1;33m]\u001b[0m\u001b[1;33m,\u001b[0m\u001b[0mreverse\u001b[0m \u001b[1;33m=\u001b[0m \u001b[1;32mTrue\u001b[0m\u001b[1;33m)\u001b[0m\u001b[1;33m\u001b[0m\u001b[1;33m\u001b[0m\u001b[0m\n\u001b[1;32m---> 11\u001b[1;33m     \u001b[1;32mif\u001b[0m \u001b[0mList_list\u001b[0m\u001b[1;33m[\u001b[0m\u001b[0mlen\u001b[0m\u001b[1;33m(\u001b[0m\u001b[0mList_list\u001b[0m\u001b[1;33m)\u001b[0m\u001b[1;33m-\u001b[0m\u001b[1;36m1\u001b[0m\u001b[1;33m]\u001b[0m\u001b[1;33m[\u001b[0m\u001b[1;36m1\u001b[0m\u001b[1;33m]\u001b[0m \u001b[1;33m==\u001b[0m \u001b[0mList_list\u001b[0m\u001b[1;33m[\u001b[0m\u001b[0mlen\u001b[0m\u001b[1;33m(\u001b[0m\u001b[0mList_list\u001b[0m\u001b[1;33m)\u001b[0m\u001b[1;33m-\u001b[0m\u001b[1;36m2\u001b[0m\u001b[1;33m]\u001b[0m\u001b[1;33m[\u001b[0m\u001b[1;36m1\u001b[0m\u001b[1;33m]\u001b[0m\u001b[1;33m:\u001b[0m\u001b[1;33m\u001b[0m\u001b[1;33m\u001b[0m\u001b[0m\n\u001b[0m\u001b[0;32m     12\u001b[0m         \u001b[0mprint\u001b[0m\u001b[1;33m(\u001b[0m\u001b[0mList_list\u001b[0m\u001b[1;33m[\u001b[0m\u001b[0mlen\u001b[0m\u001b[1;33m(\u001b[0m\u001b[0mList_list\u001b[0m\u001b[1;33m)\u001b[0m\u001b[1;33m-\u001b[0m\u001b[1;36m2\u001b[0m\u001b[1;33m]\u001b[0m\u001b[1;33m[\u001b[0m\u001b[1;36m0\u001b[0m\u001b[1;33m]\u001b[0m\u001b[1;33m)\u001b[0m\u001b[1;33m\u001b[0m\u001b[1;33m\u001b[0m\u001b[0m\n\u001b[0;32m     13\u001b[0m         \u001b[0mprint\u001b[0m\u001b[1;33m(\u001b[0m\u001b[0mList_list\u001b[0m\u001b[1;33m[\u001b[0m\u001b[0mlen\u001b[0m\u001b[1;33m(\u001b[0m\u001b[0mList_list\u001b[0m\u001b[1;33m)\u001b[0m\u001b[1;33m-\u001b[0m\u001b[1;36m1\u001b[0m\u001b[1;33m]\u001b[0m\u001b[1;33m[\u001b[0m\u001b[1;36m0\u001b[0m\u001b[1;33m]\u001b[0m\u001b[1;33m)\u001b[0m\u001b[1;33m\u001b[0m\u001b[1;33m\u001b[0m\u001b[0m\n",
      "\u001b[1;31mIndexError\u001b[0m: list index out of range"
     ]
    }
   ],
   "source": [
    "name =[]\n",
    "score = []\n",
    "List_list = [[i,j] for i,j in zip(name,score)]\n",
    "        \n",
    "for _ in range(0,int(input())):\n",
    "    name.append(input())\n",
    "    score.append(int(input()))\n",
    "    \n",
    "    \n",
    "    List_list.sort(key = lambda x:x[1],reverse = True)\n",
    "    for\n",
    "    if List_list[len(List_list)-1][1] == List_list[len(List_list)-2][1]:\n",
    "        print(List_list[len(List_list)-2][0])\n",
    "        print(List_list[len(List_list)-1][0])\n",
    "    elif  List_list[len(List_list)-1] < List_list[len(List_list)-2]:\n",
    "\n",
    "\n",
    "        print(List_list[len(List_list)-1][0]) \n"
   ]
  },
  {
   "cell_type": "code",
   "execution_count": null,
   "id": "5f4edb5d",
   "metadata": {},
   "outputs": [],
   "source": []
  },
  {
   "cell_type": "markdown",
   "id": "d2b79c76",
   "metadata": {},
   "source": [
    "        \n",
    "    List_list = [[i,j] for i,j in zip(name,score)]\n",
    "    List_list.sort(key = lambda x:x[1],reverse = True)\n",
    "    if List_list[len(List_list)-1][1] == List_list[len(List_list)-2][1]:\n",
    "        print(List_list[len(List_list)-2][0])\n",
    "        print(List_list[len(List_list)-1][0])\n",
    "    elif  List_list[len(List_list)-1] < List_list[len(List_list)-2]:\n",
    "\n",
    "\n",
    "        print(List_list[len(List_list)-1][0]) "
   ]
  },
  {
   "cell_type": "code",
   "execution_count": 5,
   "id": "a56474b9",
   "metadata": {},
   "outputs": [
    {
     "ename": "SyntaxError",
     "evalue": "invalid syntax (<ipython-input-5-37c2a6aee4c2>, line 8)",
     "output_type": "error",
     "traceback": [
      "\u001b[1;36m  File \u001b[1;32m\"<ipython-input-5-37c2a6aee4c2>\"\u001b[1;36m, line \u001b[1;32m8\u001b[0m\n\u001b[1;33m    List_list.sort(key = lambda x:x[1],reverse = True)\u001b[0m\n\u001b[1;37m    ^\u001b[0m\n\u001b[1;31mSyntaxError\u001b[0m\u001b[1;31m:\u001b[0m invalid syntax\n"
     ]
    }
   ],
   "source": [
    "List_list = []\n",
    "        \n",
    "for _ in range(0,int(input())):\n",
    "    \n",
    "    List_list.append(input(),(int(input()))\n",
    "\n",
    "    List_list.sort(key = lambda x:x[1],reverse = True)\n",
    "    if List_list[len(List_list)-1][1] == List_list[len(List_list)-2][1]:\n",
    "        print(List_list[len(List_list)-2][0])\n",
    "        print(List_list[len(List_list)-1][0])\n",
    "    elif  List_list[len(List_list)-1] < List_list[len(List_list)-2]:\n",
    "\n",
    "\n",
    "        print(List_list[len(List_list)-1][0]) "
   ]
  },
  {
   "cell_type": "code",
   "execution_count": null,
   "id": "98d0c884",
   "metadata": {},
   "outputs": [],
   "source": [
    "List_list = []\n",
    "New_set = set()\n",
    "\n",
    "        \n",
    "for _ in range(0,int(input())):\n",
    "    \n",
    "    List_list.append(input(),(int(input()))\n",
    "    for i, j in List_list:\n",
    "                     New_se"
   ]
  },
  {
   "cell_type": "code",
   "execution_count": null,
   "id": "d17b80ae",
   "metadata": {},
   "outputs": [],
   "source": []
  },
  {
   "cell_type": "code",
   "execution_count": 3,
   "id": "933ab84f",
   "metadata": {},
   "outputs": [
    {
     "ename": "SyntaxError",
     "evalue": "invalid syntax (<ipython-input-3-1a7058ced964>, line 11)",
     "output_type": "error",
     "traceback": [
      "\u001b[1;36m  File \u001b[1;32m\"<ipython-input-3-1a7058ced964>\"\u001b[1;36m, line \u001b[1;32m11\u001b[0m\n\u001b[1;33m    for i,j in List_list:\u001b[0m\n\u001b[1;37m                        ^\u001b[0m\n\u001b[1;31mSyntaxError\u001b[0m\u001b[1;31m:\u001b[0m invalid syntax\n"
     ]
    }
   ],
   "source": [
    "List_list = []\n",
    "New_list = set(())\n",
    "\n",
    "        \n",
    "for _ in range(0,int(input())):\n",
    "    \n",
    "    \n",
    "    List_list.append(input(),(int(input()))\n",
    "                     \n",
    "                     \n",
    "\n",
    "    \n",
    "    for iin List_list:\n",
    "                     New_list.add(j)\n",
    "                     Sorted_list =sorted(New_list)\n",
    "                     Second_worst =Sorted_list[0]\n",
    "                     \n",
    "                     for name,score in List_list:\n",
    "                     \n",
    "                     if score == Second_worst:\n",
    "                     \n",
    "                     \n",
    "                     \n",
    "                     \n",
    "     "
   ]
  },
  {
   "cell_type": "code",
   "execution_count": 24,
   "id": "cc7e3cfd",
   "metadata": {},
   "outputs": [],
   "source": [
    "list_1 = [ 1, 2,4,9]\n",
    "list_2 = []\n",
    "for i in list_1:\n",
    "    list_2.append(i)\n",
    "sorted(list_2)\n",
    "sorted_list = list_2[3]    \n",
    "\n",
    "\n",
    "\n",
    "    "
   ]
  },
  {
   "cell_type": "code",
   "execution_count": 25,
   "id": "d359ca92",
   "metadata": {},
   "outputs": [
    {
     "data": {
      "text/plain": [
       "9"
      ]
     },
     "execution_count": 25,
     "metadata": {},
     "output_type": "execute_result"
    }
   ],
   "source": [
    "sorted_list"
   ]
  },
  {
   "cell_type": "code",
   "execution_count": 26,
   "id": "946e8afe",
   "metadata": {},
   "outputs": [
    {
     "data": {
      "text/plain": [
       "2"
      ]
     },
     "execution_count": 26,
     "metadata": {},
     "output_type": "execute_result"
    }
   ],
   "source": [
    "sort_list"
   ]
  },
  {
   "cell_type": "code",
   "execution_count": null,
   "id": "f0e061b4",
   "metadata": {},
   "outputs": [],
   "source": []
  },
  {
   "cell_type": "code",
   "execution_count": null,
   "id": "bc0924eb",
   "metadata": {},
   "outputs": [],
   "source": [
    "List_list = []\n",
    "New_list = set()\n",
    "Sorted_name =[]\n",
    "\n",
    "for _ in range(0,int(input())):\n",
    "    \n",
    "    List_list.append([input(),float(input())])\n",
    "    for i,j in List_list:\n",
    "        New_list.add(j)\n",
    "        \n",
    "Sorted_list =sorted(New_list)\n",
    "Second_worst =Sorted_list[1]\n",
    "        \n",
    "for name,score in List_list:\n",
    "    if score == Second_worst:\n",
    "        Sorted_name.append(name)\n",
    "                \n",
    "    for name in sorted(Sorted_name,end='\\n'):\n",
    "        print(name)\n",
    "            \n",
    "    \n",
    "                     \n",
    "    \n"
   ]
  },
  {
   "cell_type": "code",
   "execution_count": null,
   "id": "b61c8816",
   "metadata": {},
   "outputs": [],
   "source": [
    "list_list =[]\n",
    "New_list = set(())\n",
    "Sorted_names = []\n",
    "\n",
    "for _ in range(0,int(input())):\n",
    "    name = input()\n",
    "    score = float(input())\n",
    "    \n",
    "    list_list.append(([name,score]))\n",
    "    \n",
    "\n",
    "    for name , score in list_list:\n",
    "        New_list.add(score)\n",
    "        \n",
    "        New_list = sorted(New_list)\n",
    "        Sorted_list = New_list[1]\n",
    "        \n",
    "    \n",
    "    for name,score in list_list:\n",
    "        Sorted_names.append(name)\n",
    "        print(name)\n",
    "        "
   ]
  },
  {
   "cell_type": "code",
   "execution_count": 63,
   "id": "82ed6ddc",
   "metadata": {},
   "outputs": [],
   "source": [
    "List_1 = [1,2,3,9,11]\n",
    "list_2 = []\n",
    "for i in List_1:\n",
    "    list_2.append(i)\n",
    "    sorted(list_2)"
   ]
  },
  {
   "cell_type": "code",
   "execution_count": 64,
   "id": "acbfbde4",
   "metadata": {},
   "outputs": [
    {
     "data": {
      "text/plain": [
       "[1, 2, 3, 9, 11]"
      ]
     },
     "execution_count": 64,
     "metadata": {},
     "output_type": "execute_result"
    }
   ],
   "source": [
    "list_2"
   ]
  },
  {
   "cell_type": "code",
   "execution_count": 55,
   "id": "2154d521",
   "metadata": {},
   "outputs": [
    {
     "data": {
      "text/plain": [
       "[1, 2, 4, 9]"
      ]
     },
     "execution_count": 55,
     "metadata": {},
     "output_type": "execute_result"
    }
   ],
   "source": [
    "list_2"
   ]
  },
  {
   "cell_type": "code",
   "execution_count": 51,
   "id": "d7080fc8",
   "metadata": {},
   "outputs": [
    {
     "name": "stdout",
     "output_type": "stream",
     "text": [
      "23\n",
      "[0]\n"
     ]
    }
   ],
   "source": [
    "list_2 = []\n",
    "input_d =[ int(input())]\n",
    "\n",
    "for i in input_d:\n",
    "    list_2.insert(i,0)\n",
    "    print(list_2)\n",
    "        \n",
    "    \n",
    "    "
   ]
  },
  {
   "cell_type": "code",
   "execution_count": null,
   "id": "afca346f",
   "metadata": {},
   "outputs": [],
   "source": []
  },
  {
   "cell_type": "code",
   "execution_count": 43,
   "id": "2fbd9d68",
   "metadata": {},
   "outputs": [],
   "source": [
    "lisT_1 =[2,4,5,6]\n",
    "list_2 = []\n"
   ]
  },
  {
   "cell_type": "code",
   "execution_count": 39,
   "id": "13b38e11",
   "metadata": {},
   "outputs": [],
   "source": [
    "list_2T_1.insert(0,list_2)"
   ]
  },
  {
   "cell_type": "code",
   "execution_count": 44,
   "id": "6b596310",
   "metadata": {},
   "outputs": [],
   "source": [
    "list_2.insert(0,2)"
   ]
  },
  {
   "cell_type": "code",
   "execution_count": null,
   "id": "a65e198b",
   "metadata": {},
   "outputs": [],
   "source": []
  },
  {
   "cell_type": "code",
   "execution_count": 45,
   "id": "3b128104",
   "metadata": {},
   "outputs": [
    {
     "data": {
      "text/plain": [
       "[2]"
      ]
     },
     "execution_count": 45,
     "metadata": {},
     "output_type": "execute_result"
    }
   ],
   "source": [
    "list_2"
   ]
  },
  {
   "cell_type": "code",
   "execution_count": 32,
   "id": "eb813546",
   "metadata": {},
   "outputs": [
    {
     "data": {
      "text/plain": [
       "['Harsh', 'Beria']"
      ]
     },
     "execution_count": 32,
     "metadata": {},
     "output_type": "execute_result"
    }
   ],
   "source": [
    "Sorted_name"
   ]
  },
  {
   "cell_type": "code",
   "execution_count": 31,
   "id": "0c8d83b3",
   "metadata": {},
   "outputs": [
    {
     "data": {
      "text/plain": [
       "[19.0, 20.0, 21.0]"
      ]
     },
     "execution_count": 31,
     "metadata": {},
     "output_type": "execute_result"
    }
   ],
   "source": [
    "Sorted_list"
   ]
  },
  {
   "cell_type": "code",
   "execution_count": null,
   "id": "e813a539",
   "metadata": {},
   "outputs": [],
   "source": [
    "5\n",
    "Harsh\n",
    "20\n",
    "Beria\n",
    "20\n",
    "Varun\n",
    "19\n",
    "Kakunami\n",
    "19\n",
    "Vikas\n",
    "21\n",
    "Varun"
   ]
  },
  {
   "cell_type": "code",
   "execution_count": 15,
   "id": "15abcd56",
   "metadata": {},
   "outputs": [
    {
     "name": "stdout",
     "output_type": "stream",
     "text": [
      "3\n",
      "ftf\n",
      "34\n",
      "fgg\n",
      "43\n",
      "gfhg\n",
      "44\n"
     ]
    }
   ],
   "source": [
    "List_list = []\n",
    "New_list = set()\n",
    "Sorted_name =[]\n",
    "\n",
    "for _ in range(0,int(input())):\n",
    "    \n",
    "    List_list.append([input(),float(input())])\n",
    "    for i,j in List_list:\n",
    "        New_list.add(j)\n",
    "Sorted_list =sorted(New_list)\n",
    "Second_worst =Sorted_list[1]"
   ]
  },
  {
   "cell_type": "code",
   "execution_count": 17,
   "id": "dc60768b",
   "metadata": {},
   "outputs": [
    {
     "data": {
      "text/plain": [
       "{34.0, 43.0, 44.0}"
      ]
     },
     "execution_count": 17,
     "metadata": {},
     "output_type": "execute_result"
    }
   ],
   "source": [
    "New_list"
   ]
  },
  {
   "cell_type": "code",
   "execution_count": 16,
   "id": "a3c82449",
   "metadata": {},
   "outputs": [
    {
     "data": {
      "text/plain": [
       "43.0"
      ]
     },
     "execution_count": 16,
     "metadata": {},
     "output_type": "execute_result"
    }
   ],
   "source": [
    "Second_worst"
   ]
  },
  {
   "cell_type": "code",
   "execution_count": 7,
   "id": "1301d718",
   "metadata": {},
   "outputs": [
    {
     "data": {
      "text/plain": [
       "{34.0, 45.0}"
      ]
     },
     "execution_count": 7,
     "metadata": {},
     "output_type": "execute_result"
    }
   ],
   "source": [
    "New_list"
   ]
  },
  {
   "cell_type": "code",
   "execution_count": 3,
   "id": "f0ae9bd8",
   "metadata": {},
   "outputs": [
    {
     "data": {
      "text/plain": [
       "{15.0, 21.0, 23.0}"
      ]
     },
     "execution_count": 3,
     "metadata": {},
     "output_type": "execute_result"
    }
   ],
   "source": [
    "New_list"
   ]
  },
  {
   "cell_type": "code",
   "execution_count": 34,
   "id": "dda8e262",
   "metadata": {},
   "outputs": [],
   "source": [
    "pint = set()\n",
    "pint = set()\n",
    "gint =[['pij',34],['thhb',45]]gint =[['pij',34],['thhb',45]]"
   ]
  },
  {
   "cell_type": "code",
   "execution_count": 12,
   "id": "b8f4e0b8",
   "metadata": {},
   "outputs": [],
   "source": [
    "pint = set()\n",
    "gint =[['pij',34],['thhb',45]]\n",
    "\n",
    "for i,j in gint:\n",
    "        pint.add(j)\n",
    "        \n",
    "        Sorted_list =sorted(New_list)\n",
    "        "
   ]
  },
  {
   "cell_type": "code",
   "execution_count": 38,
   "id": "28a5022d",
   "metadata": {},
   "outputs": [],
   "source": [
    "for i , j in "
   ]
  },
  {
   "cell_type": "code",
   "execution_count": 13,
   "id": "3022fd6b",
   "metadata": {},
   "outputs": [
    {
     "data": {
      "text/plain": [
       "{34, 45}"
      ]
     },
     "execution_count": 13,
     "metadata": {},
     "output_type": "execute_result"
    }
   ],
   "source": [
    "pint"
   ]
  },
  {
   "cell_type": "code",
   "execution_count": 22,
   "id": "764da750",
   "metadata": {},
   "outputs": [
    {
     "ename": "NameError",
     "evalue": "name 'Harsh' is not defined",
     "output_type": "error",
     "traceback": [
      "\u001b[1;31m---------------------------------------------------------------------------\u001b[0m",
      "\u001b[1;31mNameError\u001b[0m                                 Traceback (most recent call last)",
      "\u001b[1;32m<ipython-input-22-35a888ef54f6>\u001b[0m in \u001b[0;36m<module>\u001b[1;34m\u001b[0m\n\u001b[0;32m      1\u001b[0m \u001b[1;36m5\u001b[0m\u001b[1;33m\u001b[0m\u001b[1;33m\u001b[0m\u001b[0m\n\u001b[1;32m----> 2\u001b[1;33m \u001b[0mHarsh\u001b[0m\u001b[1;33m\u001b[0m\u001b[1;33m\u001b[0m\u001b[0m\n\u001b[0m\u001b[0;32m      3\u001b[0m \u001b[1;36m20\u001b[0m\u001b[1;33m\u001b[0m\u001b[1;33m\u001b[0m\u001b[0m\n\u001b[0;32m      4\u001b[0m \u001b[0mBeria\u001b[0m\u001b[1;33m\u001b[0m\u001b[1;33m\u001b[0m\u001b[0m\n\u001b[0;32m      5\u001b[0m \u001b[1;36m20\u001b[0m\u001b[1;33m\u001b[0m\u001b[1;33m\u001b[0m\u001b[0m\n",
      "\u001b[1;31mNameError\u001b[0m: name 'Harsh' is not defined"
     ]
    }
   ],
   "source": [
    "5\n",
    "Harsh\n",
    "20\n",
    "Beria\n",
    "20\n",
    "Varun\n",
    "19\n",
    "Kakunami\n",
    "19\n",
    "Vikas\n",
    "21\n",
    "Varun"
   ]
  },
  {
   "cell_type": "code",
   "execution_count": 23,
   "id": "f3de8b9f",
   "metadata": {},
   "outputs": [
    {
     "ename": "KeyboardInterrupt",
     "evalue": "Interrupted by user",
     "output_type": "error",
     "traceback": [
      "\u001b[1;31m---------------------------------------------------------------------------\u001b[0m",
      "\u001b[1;31mKeyboardInterrupt\u001b[0m                         Traceback (most recent call last)",
      "\u001b[1;32m<ipython-input-23-57c6d5c1fa1e>\u001b[0m in \u001b[0;36m<module>\u001b[1;34m\u001b[0m\n\u001b[0;32m      1\u001b[0m \u001b[0mList_list\u001b[0m\u001b[1;33m\u001b[0m\u001b[1;33m\u001b[0m\u001b[0m\n\u001b[1;32m----> 2\u001b[1;33m \u001b[1;32mfor\u001b[0m \u001b[0m_\u001b[0m \u001b[1;32min\u001b[0m \u001b[0mrange\u001b[0m\u001b[1;33m(\u001b[0m\u001b[1;36m0\u001b[0m\u001b[1;33m,\u001b[0m\u001b[0mint\u001b[0m\u001b[1;33m(\u001b[0m\u001b[0minput\u001b[0m\u001b[1;33m(\u001b[0m\u001b[1;33m)\u001b[0m\u001b[1;33m)\u001b[0m\u001b[1;33m)\u001b[0m\u001b[1;33m:\u001b[0m\u001b[1;33m\u001b[0m\u001b[1;33m\u001b[0m\u001b[0m\n\u001b[0m\u001b[0;32m      3\u001b[0m \u001b[1;33m\u001b[0m\u001b[0m\n\u001b[0;32m      4\u001b[0m     \u001b[0mList_list\u001b[0m\u001b[1;33m.\u001b[0m\u001b[0mappend\u001b[0m\u001b[1;33m(\u001b[0m\u001b[1;33m(\u001b[0m\u001b[0minput\u001b[0m\u001b[1;33m(\u001b[0m\u001b[1;33m)\u001b[0m\u001b[1;33m,\u001b[0m\u001b[0mint\u001b[0m\u001b[1;33m(\u001b[0m\u001b[0minput\u001b[0m\u001b[1;33m(\u001b[0m\u001b[1;33m)\u001b[0m\u001b[1;33m)\u001b[0m\u001b[1;33m)\u001b[0m\u001b[1;33m)\u001b[0m\u001b[1;33m\u001b[0m\u001b[1;33m\u001b[0m\u001b[0m\n",
      "\u001b[1;32m~\\anaconda3\\lib\\site-packages\\ipykernel\\kernelbase.py\u001b[0m in \u001b[0;36mraw_input\u001b[1;34m(self, prompt)\u001b[0m\n\u001b[0;32m    858\u001b[0m                 \u001b[1;34m\"raw_input was called, but this frontend does not support input requests.\"\u001b[0m\u001b[1;33m\u001b[0m\u001b[1;33m\u001b[0m\u001b[0m\n\u001b[0;32m    859\u001b[0m             )\n\u001b[1;32m--> 860\u001b[1;33m         return self._input_request(str(prompt),\n\u001b[0m\u001b[0;32m    861\u001b[0m             \u001b[0mself\u001b[0m\u001b[1;33m.\u001b[0m\u001b[0m_parent_ident\u001b[0m\u001b[1;33m,\u001b[0m\u001b[1;33m\u001b[0m\u001b[1;33m\u001b[0m\u001b[0m\n\u001b[0;32m    862\u001b[0m             \u001b[0mself\u001b[0m\u001b[1;33m.\u001b[0m\u001b[0m_parent_header\u001b[0m\u001b[1;33m,\u001b[0m\u001b[1;33m\u001b[0m\u001b[1;33m\u001b[0m\u001b[0m\n",
      "\u001b[1;32m~\\anaconda3\\lib\\site-packages\\ipykernel\\kernelbase.py\u001b[0m in \u001b[0;36m_input_request\u001b[1;34m(self, prompt, ident, parent, password)\u001b[0m\n\u001b[0;32m    902\u001b[0m             \u001b[1;32mexcept\u001b[0m \u001b[0mKeyboardInterrupt\u001b[0m\u001b[1;33m:\u001b[0m\u001b[1;33m\u001b[0m\u001b[1;33m\u001b[0m\u001b[0m\n\u001b[0;32m    903\u001b[0m                 \u001b[1;31m# re-raise KeyboardInterrupt, to truncate traceback\u001b[0m\u001b[1;33m\u001b[0m\u001b[1;33m\u001b[0m\u001b[1;33m\u001b[0m\u001b[0m\n\u001b[1;32m--> 904\u001b[1;33m                 \u001b[1;32mraise\u001b[0m \u001b[0mKeyboardInterrupt\u001b[0m\u001b[1;33m(\u001b[0m\u001b[1;34m\"Interrupted by user\"\u001b[0m\u001b[1;33m)\u001b[0m \u001b[1;32mfrom\u001b[0m \u001b[1;32mNone\u001b[0m\u001b[1;33m\u001b[0m\u001b[1;33m\u001b[0m\u001b[0m\n\u001b[0m\u001b[0;32m    905\u001b[0m             \u001b[1;32mexcept\u001b[0m \u001b[0mException\u001b[0m \u001b[1;32mas\u001b[0m \u001b[0me\u001b[0m\u001b[1;33m:\u001b[0m\u001b[1;33m\u001b[0m\u001b[1;33m\u001b[0m\u001b[0m\n\u001b[0;32m    906\u001b[0m                 \u001b[0mself\u001b[0m\u001b[1;33m.\u001b[0m\u001b[0mlog\u001b[0m\u001b[1;33m.\u001b[0m\u001b[0mwarning\u001b[0m\u001b[1;33m(\u001b[0m\u001b[1;34m\"Invalid Message:\"\u001b[0m\u001b[1;33m,\u001b[0m \u001b[0mexc_info\u001b[0m\u001b[1;33m=\u001b[0m\u001b[1;32mTrue\u001b[0m\u001b[1;33m)\u001b[0m\u001b[1;33m\u001b[0m\u001b[1;33m\u001b[0m\u001b[0m\n",
      "\u001b[1;31mKeyboardInterrupt\u001b[0m: Interrupted by user"
     ]
    }
   ],
   "source": [
    "List_list\n",
    "for _ in range(0,int(input())):\n",
    "    \n",
    "    List_list.append((input(),int(input())))"
   ]
  },
  {
   "cell_type": "code",
   "execution_count": null,
   "id": "c8777ad4",
   "metadata": {},
   "outputs": [],
   "source": [
    " List_list.append((input(),int(input())))"
   ]
  },
  {
   "cell_type": "code",
   "execution_count": null,
   "id": "e09d824b",
   "metadata": {},
   "outputs": [],
   "source": [
    "#f List_list[len(List_list)-1][1] == List_list[len(List_list)-2][1]:\n",
    "     #  print(List_list[len(List_list)-2][0])\n",
    "      # print(List_list[len(List_list)-1][0])\n",
    "    #lif  List_list[len(List_list)-1] < List_list[len(List_list)-2]:\n",
    "\n",
    "\n",
    "        #pint(List_list[len(List_list)-1][0])"
   ]
  },
  {
   "cell_type": "code",
   "execution_count": null,
   "id": "43911384",
   "metadata": {},
   "outputs": [],
   "source": [
    "for name,score in List_list:\n",
    "    "
   ]
  },
  {
   "cell_type": "code",
   "execution_count": 34,
   "id": "27c3d48d",
   "metadata": {},
   "outputs": [
    {
     "name": "stdout",
     "output_type": "stream",
     "text": [
      "5\n",
      "Harsh\n",
      "20\n",
      "Beria\n",
      "20\n",
      "Varun\n",
      "19\n",
      "Kakunami\n",
      "19\n",
      "Vikas\n",
      "21\n",
      "Varun\n"
     ]
    }
   ],
   "source": [
    "\n",
    "    List_list = [[input(), float(input())] for _ in range(int(input()))]\n",
    "    List_list.sort(key = lambda x:x[1],reverse = True)\n",
    "    if List_list[len(List_list)-3][1] == List_list[len(List_list)-2][1]:\n",
    "        print(List_list[len(List_list)-3][0])\n",
    "        print(List_list[len(List_list)-2][0])\n",
    "    elif  List_list[len(List_list)-2][1] < List_list[len(List_list)-3][1]:\n",
    "        print(List_list[len(List_list)-2][0]) "
   ]
  },
  {
   "cell_type": "code",
   "execution_count": 46,
   "id": "9663ee2d",
   "metadata": {},
   "outputs": [
    {
     "ename": "SyntaxError",
     "evalue": "invalid syntax (<ipython-input-46-966c7799a5cf>, line 1)",
     "output_type": "error",
     "traceback": [
      "\u001b[1;36m  File \u001b[1;32m\"<ipython-input-46-966c7799a5cf>\"\u001b[1;36m, line \u001b[1;32m1\u001b[0m\n\u001b[1;33m    List_list[i][1] for i range(len(List_list)\u001b[0m\n\u001b[1;37m                    ^\u001b[0m\n\u001b[1;31mSyntaxError\u001b[0m\u001b[1;31m:\u001b[0m invalid syntax\n"
     ]
    }
   ],
   "source": [
    "List_list[i][1] for i range(len(List_list)]"
   ]
  },
  {
   "cell_type": "code",
   "execution_count": null,
   "id": "8da4648d",
   "metadata": {},
   "outputs": [],
   "source": []
  },
  {
   "cell_type": "code",
   "execution_count": 7,
   "id": "a094a1f1",
   "metadata": {},
   "outputs": [],
   "source": [
    "pent  = [['Vikas', 21.0],\n",
    " ['Harsh', 20.0],\n",
    " ['Beria', 20.0],\n",
    " ['Varun', 19.0],\n",
    " ['Kakunami', 19.0]]"
   ]
  },
  {
   "cell_type": "code",
   "execution_count": 8,
   "id": "c313af78",
   "metadata": {},
   "outputs": [],
   "source": [
    "new = set(())\n",
    "for i , j in pent:\n",
    "    \n",
    "    new.add(j)"
   ]
  },
  {
   "cell_type": "code",
   "execution_count": 9,
   "id": "06814fa1",
   "metadata": {},
   "outputs": [
    {
     "data": {
      "text/plain": [
       "20.0"
      ]
     },
     "execution_count": 9,
     "metadata": {},
     "output_type": "execute_result"
    }
   ],
   "source": [
    "sorted(new)[1]"
   ]
  },
  {
   "cell_type": "code",
   "execution_count": 64,
   "id": "4ec02655",
   "metadata": {},
   "outputs": [],
   "source": [
    "new = (2,3,5)"
   ]
  },
  {
   "cell_type": "code",
   "execution_count": null,
   "id": "ac4f87c0",
   "metadata": {},
   "outputs": [],
   "source": []
  },
  {
   "cell_type": "code",
   "execution_count": null,
   "id": "9a06b981",
   "metadata": {},
   "outputs": [],
   "source": [
    "5\n",
    "Harsh\n",
    "20\n",
    "Beria\n",
    "20\n",
    "Varun\n",
    "19\n",
    "Kakunami\n",
    "19\n",
    "Vikas\n",
    "21"
   ]
  },
  {
   "cell_type": "code",
   "execution_count": 33,
   "id": "b724e3cd",
   "metadata": {},
   "outputs": [
    {
     "data": {
      "text/plain": [
       "[['Shaheen', 51.0], ['Rachel', -50.0], ['Mawer', -50.0], ['Sheen', -50.0]]"
      ]
     },
     "execution_count": 33,
     "metadata": {},
     "output_type": "execute_result"
    }
   ],
   "source": [
    "List_list"
   ]
  },
  {
   "cell_type": "code",
   "execution_count": null,
   "id": "80b367d2",
   "metadata": {},
   "outputs": [],
   "source": [
    "4\n",
    "Rachel\n",
    "-50\n",
    "Mawer\n",
    "-50\n",
    "Sheen\n",
    "-50\n",
    "Shaheen\n",
    "51"
   ]
  },
  {
   "cell_type": "code",
   "execution_count": null,
   "id": "b4882f48",
   "metadata": {},
   "outputs": [],
   "source": [
    "5\n",
    "Harsh\n",
    "20\n",
    "Beria\n",
    "20\n",
    "Varun\n",
    "19\n",
    "Kakunami\n",
    "19\n",
    "Vikas\n",
    "21"
   ]
  },
  {
   "cell_type": "code",
   "execution_count": 26,
   "id": "b7af3c3c",
   "metadata": {},
   "outputs": [
    {
     "data": {
      "text/plain": [
       "True"
      ]
     },
     "execution_count": 26,
     "metadata": {},
     "output_type": "execute_result"
    }
   ],
   "source": [
    "List_list[len(List_list)-1][1] < List_list[len(List_list)-2][1]"
   ]
  },
  {
   "cell_type": "code",
   "execution_count": 24,
   "id": "235c0fd7",
   "metadata": {},
   "outputs": [
    {
     "data": {
      "text/plain": [
       "(37.21, 37.2)"
      ]
     },
     "execution_count": 24,
     "metadata": {},
     "output_type": "execute_result"
    }
   ],
   "source": [
    "List_list[-2][1],List_list[-1][1]"
   ]
  },
  {
   "cell_type": "code",
   "execution_count": 14,
   "id": "5b62ce0a",
   "metadata": {},
   "outputs": [
    {
     "data": {
      "text/plain": [
       "False"
      ]
     },
     "execution_count": 14,
     "metadata": {},
     "output_type": "execute_result"
    }
   ],
   "source": [
    "List_list[len(List_list)-1][1] == List_list[len(List_list)-2][1]"
   ]
  },
  {
   "cell_type": "code",
   "execution_count": null,
   "id": "a2e2f4e0",
   "metadata": {},
   "outputs": [],
   "source": [
    "5\n",
    "Harry\n",
    "37.21\n",
    "Berry\n",
    "37.21\n",
    "Tina\n",
    "37.2\n",
    "Akriti\n",
    "41\n",
    "Harsh\n",
    "39"
   ]
  },
  {
   "cell_type": "code",
   "execution_count": 11,
   "id": "4537bbd5",
   "metadata": {},
   "outputs": [
    {
     "name": "stdout",
     "output_type": "stream",
     "text": [
      "2\n",
      "timi\n",
      "23\n",
      "timiw\n",
      "23\n"
     ]
    }
   ],
   "source": [
    "marksheet = [[input(), float(input())] for _ in range(int(input()))]"
   ]
  },
  {
   "cell_type": "code",
   "execution_count": null,
   "id": "80bebc2d",
   "metadata": {},
   "outputs": [],
   "source": []
  },
  {
   "cell_type": "code",
   "execution_count": 2,
   "id": "f23f5798",
   "metadata": {},
   "outputs": [
    {
     "name": "stdout",
     "output_type": "stream",
     "text": [
      "2\n",
      "rotimi\n",
      "232\n",
      "23\n",
      "23\n"
     ]
    }
   ],
   "source": [
    "for _ in range(0,int(input())):\n",
    "    name.append(input())\n",
    "    score.append(int(input()))"
   ]
  },
  {
   "cell_type": "code",
   "execution_count": 12,
   "id": "9313678c",
   "metadata": {},
   "outputs": [
    {
     "name": "stdout",
     "output_type": "stream",
     "text": [
      "56\n"
     ]
    }
   ],
   "source": [
    " score = [float(input())]"
   ]
  },
  {
   "cell_type": "code",
   "execution_count": 14,
   "id": "287cb768",
   "metadata": {},
   "outputs": [
    {
     "data": {
      "text/plain": [
       "list"
      ]
     },
     "execution_count": 14,
     "metadata": {},
     "output_type": "execute_result"
    }
   ],
   "source": [
    "type(score)"
   ]
  },
  {
   "cell_type": "code",
   "execution_count": 32,
   "id": "743681ae",
   "metadata": {},
   "outputs": [
    {
     "data": {
      "text/plain": [
       "'Kingsley'"
      ]
     },
     "execution_count": 32,
     "metadata": {},
     "output_type": "execute_result"
    }
   ],
   "source": [
    "List_list[len(List_list)-2][0]"
   ]
  },
  {
   "cell_type": "code",
   "execution_count": null,
   "id": "1a0099ea",
   "metadata": {},
   "outputs": [],
   "source": []
  },
  {
   "cell_type": "code",
   "execution_count": null,
   "id": "ee557eb5",
   "metadata": {},
   "outputs": [],
   "source": []
  },
  {
   "cell_type": "code",
   "execution_count": 33,
   "id": "5c6ba261",
   "metadata": {},
   "outputs": [
    {
     "data": {
      "text/plain": [
       "[['Kingsley', 75], ['Mira', 75]]"
      ]
     },
     "execution_count": 33,
     "metadata": {},
     "output_type": "execute_result"
    }
   ],
   "source": [
    "List_list[-2:]"
   ]
  },
  {
   "cell_type": "code",
   "execution_count": null,
   "id": "6be6b0dc",
   "metadata": {},
   "outputs": [],
   "source": [
    "for i in range(len(List_list)):\n",
    "    \n",
    "    if List_list[len(List_list)-1] ==List_list[len(List_list)-1]:\n",
    "          List_list.sort(key = lambda x:x[0],reverse = False)\n",
    "          print(List_lis"
   ]
  },
  {
   "cell_type": "code",
   "execution_count": 17,
   "id": "c4328645",
   "metadata": {},
   "outputs": [],
   "source": [
    "#List_list.sort(key = lambda x:x[1],reverse = True)"
   ]
  },
  {
   "cell_type": "code",
   "execution_count": 18,
   "id": "52bb751c",
   "metadata": {},
   "outputs": [
    {
     "data": {
      "text/plain": [
       "[['Rotimi', 89], ['Ikechukwu', 80], ['Kingsley', 75], ['Mira', 75]]"
      ]
     },
     "execution_count": 18,
     "metadata": {},
     "output_type": "execute_result"
    }
   ],
   "source": [
    "List_list"
   ]
  },
  {
   "cell_type": "code",
   "execution_count": 262,
   "id": "1771199f",
   "metadata": {},
   "outputs": [
    {
     "data": {
      "text/plain": [
       "['Kingsley', 75]"
      ]
     },
     "execution_count": 262,
     "metadata": {},
     "output_type": "execute_result"
    }
   ],
   "source": [
    "List_list[len(List_list)-1]"
   ]
  },
  {
   "cell_type": "code",
   "execution_count": 256,
   "id": "5253f9bd",
   "metadata": {},
   "outputs": [
    {
     "name": "stdout",
     "output_type": "stream",
     "text": [
      "Rotimi\n",
      "Rotimi\n",
      "Rotimi\n",
      "Rotimi\n"
     ]
    }
   ],
   "source": [
    "for i in range(len(List_list)):\n",
    "    print(List_list[len(List_list)-1]\n",
    "    if List_list[len(List_list)-1] ==List_list[len(List_list)-1]:\n",
    "          List_list.sort(key = lambda x:x[0],reverse = False)\n",
    "          print(List_list\n",
    "          "
   ]
  },
  {
   "cell_type": "code",
   "execution_count": 1,
   "id": "9e7afd21",
   "metadata": {},
   "outputs": [],
   "source": [
    "name = 'shade','kola','bimbo'"
   ]
  },
  {
   "cell_type": "code",
   "execution_count": null,
   "id": "9d65c9c9",
   "metadata": {},
   "outputs": [],
   "source": []
  },
  {
   "cell_type": "code",
   "execution_count": 29,
   "id": "401c28c3",
   "metadata": {},
   "outputs": [
    {
     "name": "stdout",
     "output_type": "stream",
     "text": [
      "2\n",
      "tim\n",
      "21\n",
      "gim\n",
      "21\n"
     ]
    }
   ],
   "source": [
    "list_list =[]\n",
    "New_list = set()\n",
    "Sorted_names = []\n",
    "\n",
    "for _ in range(0,int(input())):\n",
    "    name = input()\n",
    "    score = float(input())\n",
    "    \n",
    "    list_list.append(([name,score]))\n",
    "    for i,j in list_list:\n",
    "        New_list.add(j)\n",
    "        sorted()\n",
    "        \n",
    "    \n",
    "\n",
    "for name , score in list_list:\n",
    "    New_list.append(score)\n",
    "    sorted_set = Sorted(New_list)[1]\n",
    "    \n",
    "    \n",
    "    \n",
    "    \n",
    "    \n",
    "\n"
   ]
  },
  {
   "cell_type": "code",
   "execution_count": 71,
   "id": "2db3dbb4",
   "metadata": {},
   "outputs": [],
   "source": [
    "list.extend?"
   ]
  },
  {
   "cell_type": "code",
   "execution_count": 88,
   "id": "019dd710",
   "metadata": {},
   "outputs": [],
   "source": [
    "List_1 = [3,2,3,9,11]\n",
    "list_2 = []\n",
    "for i in List_1:\n",
    "    list_2.append(i)\n",
    "    List_3 = sorted(list_2)\n",
    "    smallest_num = List_3[0]"
   ]
  },
  {
   "cell_type": "code",
   "execution_count": 75,
   "id": "089e3eb2",
   "metadata": {},
   "outputs": [],
   "source": [
    "sorted?"
   ]
  },
  {
   "cell_type": "code",
   "execution_count": 91,
   "id": "beb0c2a0",
   "metadata": {},
   "outputs": [
    {
     "data": {
      "text/plain": [
       "[2, 3, 3, 9, 11]"
      ]
     },
     "execution_count": 91,
     "metadata": {},
     "output_type": "execute_result"
    }
   ],
   "source": [
    "List_3"
   ]
  },
  {
   "cell_type": "code",
   "execution_count": 90,
   "id": "64c78763",
   "metadata": {},
   "outputs": [
    {
     "data": {
      "text/plain": [
       "2"
      ]
     },
     "execution_count": 90,
     "metadata": {},
     "output_type": "execute_result"
    }
   ],
   "source": [
    "smallest_num"
   ]
  },
  {
   "cell_type": "code",
   "execution_count": 30,
   "id": "94581401",
   "metadata": {},
   "outputs": [
    {
     "data": {
      "text/plain": [
       "[['tim', 21.0], ['gim', 21.0]]"
      ]
     },
     "execution_count": 30,
     "metadata": {},
     "output_type": "execute_result"
    }
   ],
   "source": [
    "list_list"
   ]
  },
  {
   "cell_type": "code",
   "execution_count": 101,
   "id": "f432da78",
   "metadata": {},
   "outputs": [],
   "source": [
    "list_list =[]\n",
    "New_list = set()\n",
    "Sorted_names = []\n",
    "    "
   ]
  },
  {
   "cell_type": "code",
   "execution_count": 102,
   "id": "a346b173",
   "metadata": {},
   "outputs": [
    {
     "name": "stdout",
     "output_type": "stream",
     "text": [
      "1\n",
      "FGV\n",
      "67\n"
     ]
    }
   ],
   "source": [
    "for _ in range(int(input())):\n",
    "        name = input()\n",
    "        score = float(input())\n",
    "        list_list.append(([name,score]))\n",
    "       # for i,j in list_list:\n",
    "         #   New_list.add(j)\n",
    "          #  sorted(New_list)\n",
    "    \n",
    "    "
   ]
  },
  {
   "cell_type": "code",
   "execution_count": 103,
   "id": "020e815a",
   "metadata": {},
   "outputs": [
    {
     "data": {
      "text/plain": [
       "[['FGV', 67.0]]"
      ]
     },
     "execution_count": 103,
     "metadata": {},
     "output_type": "execute_result"
    }
   ],
   "source": [
    "list_list"
   ]
  },
  {
   "cell_type": "code",
   "execution_count": 109,
   "id": "a05c5d45",
   "metadata": {},
   "outputs": [],
   "source": [
    "name = [ 'be', 'ade']"
   ]
  },
  {
   "cell_type": "code",
   "execution_count": 111,
   "id": "b3dba33a",
   "metadata": {},
   "outputs": [
    {
     "data": {
      "text/plain": [
       "['ade', 'be']"
      ]
     },
     "execution_count": 111,
     "metadata": {},
     "output_type": "execute_result"
    }
   ],
   "source": [
    "sorted(name,reverse = False)"
   ]
  },
  {
   "cell_type": "code",
   "execution_count": 258,
   "id": "e410da09",
   "metadata": {},
   "outputs": [],
   "source": [
    "D={}\n",
    "Names = []\n",
    "Scores = []"
   ]
  },
  {
   "cell_type": "code",
   "execution_count": 270,
   "id": "befd9212",
   "metadata": {},
   "outputs": [
    {
     "name": "stdout",
     "output_type": "stream",
     "text": [
      "1\n",
      "Rotimi  23 23 23 \n",
      "23 23 23\n"
     ]
    }
   ],
   "source": [
    "n = int(input())\n",
    "student_marks = {}\n",
    "for _ in range(n):\n",
    "    name, *line = input().split()\n",
    "    print(*line)"
   ]
  },
  {
   "cell_type": "code",
   "execution_count": null,
   "id": "c5999a8d",
   "metadata": {},
   "outputs": [],
   "source": [
    "num = [i for i in range(10)]\n"
   ]
  },
  {
   "cell_type": "code",
   "execution_count": null,
   "id": "7f32ce43",
   "metadata": {},
   "outputs": [],
   "source": [
    "saq_fun = map()"
   ]
  },
  {
   "cell_type": "code",
   "execution_count": 266,
   "id": "3b24bf72",
   "metadata": {},
   "outputs": [
    {
     "data": {
      "text/plain": [
       "134400"
      ]
     },
     "execution_count": 266,
     "metadata": {},
     "output_type": "execute_result"
    }
   ],
   "source": [
    "67200*2"
   ]
  },
  {
   "cell_type": "code",
   "execution_count": 262,
   "id": "127f840f",
   "metadata": {},
   "outputs": [
    {
     "name": "stdout",
     "output_type": "stream",
     "text": [
      "2\n",
      "timi 34 45 34 3\n",
      "6767\n",
      "34\n",
      "34\n",
      "tksjd\n",
      "34\n",
      "34\n",
      "234\n",
      "timi 34 45 34 3 average score is  100.66666666666667\n",
      "tksjd average score is  100.66666666666667\n"
     ]
    }
   ],
   "source": [
    "# This is a program that helps to compute the average score of all students depending on the num of \n",
    "#the students in the classroom\n",
    "\n",
    "D={}\n",
    "Names = []\n",
    "Scores = []\n",
    "for _ in range(int(input())):\n",
    "    \n",
    "    Name,scores = input(),(float(input()),float(input()),float(input()))\n",
    "    Names.append(Name)\n",
    "    Scores.append((scores))\n",
    "    \n",
    "for i in Names:\n",
    "    for k in Scores:\n",
    "        D[i] =  k\n",
    "        \n",
    "for i,j in D.items():\n",
    "    print(i,'average score is ',sum(j)/len(j))        \n",
    "   \n",
    " \n",
    "query_name = input()\n",
    "    \n",
    "    \n",
    "        \n",
    "  "
   ]
  },
  {
   "cell_type": "markdown",
   "id": "22e86f32",
   "metadata": {},
   "source": [
    "##### score3\n"
   ]
  },
  {
   "cell_type": "code",
   "execution_count": 251,
   "id": "c253b981",
   "metadata": {},
   "outputs": [
    {
     "data": {
      "text/plain": [
       "{'timi': (23.0, 23.0, 234.0)}"
      ]
     },
     "execution_count": 251,
     "metadata": {},
     "output_type": "execute_result"
    }
   ],
   "source": [
    "D"
   ]
  },
  {
   "cell_type": "code",
   "execution_count": 252,
   "id": "ec1c1b91",
   "metadata": {},
   "outputs": [
    {
     "data": {
      "text/plain": [
       "{'timi': (23.0, 23.0, 234.0)}"
      ]
     },
     "execution_count": 252,
     "metadata": {},
     "output_type": "execute_result"
    }
   ],
   "source": [
    "D"
   ]
  },
  {
   "cell_type": "code",
   "execution_count": 241,
   "id": "91be6cde",
   "metadata": {},
   "outputs": [
    {
     "data": {
      "text/plain": [
       "((89.0, 98.0, 87.0), {'Ibukun': (23.0, 23.0, 234.0)})"
      ]
     },
     "execution_count": 241,
     "metadata": {},
     "output_type": "execute_result"
    }
   ],
   "source": [
    "scores,D"
   ]
  },
  {
   "cell_type": "code",
   "execution_count": 234,
   "id": "ec25a37b",
   "metadata": {},
   "outputs": [
    {
     "data": {
      "text/plain": [
       "69.33333333333333"
      ]
     },
     "execution_count": 234,
     "metadata": {},
     "output_type": "execute_result"
    }
   ],
   "source": [
    "(87+76+45)/3"
   ]
  },
  {
   "cell_type": "code",
   "execution_count": 209,
   "id": "17d95ed4",
   "metadata": {},
   "outputs": [],
   "source": [
    "x = np.random.rand(10)"
   ]
  },
  {
   "cell_type": "code",
   "execution_count": 211,
   "id": "13e2093d",
   "metadata": {},
   "outputs": [
    {
     "data": {
      "text/plain": [
       "array([0.84695622, 0.33002713, 0.59275415, 0.43751002, 0.23137964,\n",
       "       0.34554584, 0.39024191, 0.49332648, 0.36941085, 0.70908053])"
      ]
     },
     "execution_count": 211,
     "metadata": {},
     "output_type": "execute_result"
    }
   ],
   "source": [
    "x"
   ]
  },
  {
   "cell_type": "code",
   "execution_count": 214,
   "id": "f7741c26",
   "metadata": {},
   "outputs": [],
   "source": [
    "R = [i for i  in range(10)]"
   ]
  },
  {
   "cell_type": "code",
   "execution_count": 227,
   "id": "cfb7b76d",
   "metadata": {},
   "outputs": [
    {
     "data": {
      "text/plain": [
       "[0, 1, 2, 3, 4, 5, 6, 7, 8, 9]"
      ]
     },
     "execution_count": 227,
     "metadata": {},
     "output_type": "execute_result"
    }
   ],
   "source": [
    "R"
   ]
  },
  {
   "cell_type": "markdown",
   "id": "32c4d65a",
   "metadata": {},
   "source": [
    "### Names"
   ]
  },
  {
   "cell_type": "code",
   "execution_count": 160,
   "id": "09569ebd",
   "metadata": {},
   "outputs": [
    {
     "data": {
      "text/plain": [
       "[(23.0, 23.0, 234.0)]"
      ]
     },
     "execution_count": 160,
     "metadata": {},
     "output_type": "execute_result"
    }
   ],
   "source": [
    "Scores\n"
   ]
  },
  {
   "cell_type": "code",
   "execution_count": null,
   "id": "e05dc5d6",
   "metadata": {},
   "outputs": [],
   "source": []
  },
  {
   "cell_type": "code",
   "execution_count": null,
   "id": "b98667d9",
   "metadata": {},
   "outputs": [],
   "source": []
  },
  {
   "cell_type": "code",
   "execution_count": null,
   "id": "4c7d9f45",
   "metadata": {},
   "outputs": [],
   "source": []
  },
  {
   "cell_type": "code",
   "execution_count": 154,
   "id": "df30689f",
   "metadata": {},
   "outputs": [
    {
     "data": {
      "text/plain": [
       "['er']"
      ]
     },
     "execution_count": 154,
     "metadata": {},
     "output_type": "execute_result"
    }
   ],
   "source": [
    "Names"
   ]
  },
  {
   "cell_type": "code",
   "execution_count": 161,
   "id": "c8e14d2d",
   "metadata": {},
   "outputs": [],
   "source": [
    "D={}\n",
    "for i in Names:\n",
    "    for J in Scores:\n",
    "        D[i]= J\n",
    "    "
   ]
  },
  {
   "cell_type": "code",
   "execution_count": 201,
   "id": "bc173c14",
   "metadata": {},
   "outputs": [
    {
     "data": {
      "text/plain": [
       "{'timi': (23.0, 23.0, 234.0)}"
      ]
     },
     "execution_count": 201,
     "metadata": {},
     "output_type": "execute_result"
    }
   ],
   "source": [
    "D"
   ]
  },
  {
   "cell_type": "code",
   "execution_count": 171,
   "id": "955616f3",
   "metadata": {},
   "outputs": [],
   "source": [
    "list2 = [23,45,6]"
   ]
  },
  {
   "cell_type": "code",
   "execution_count": 197,
   "id": "f7d73aa3",
   "metadata": {},
   "outputs": [
    {
     "data": {
      "text/plain": [
       "24.666666666666668"
      ]
     },
     "execution_count": 197,
     "metadata": {},
     "output_type": "execute_result"
    }
   ],
   "source": [
    "sum(list2)/len(list2)"
   ]
  },
  {
   "cell_type": "code",
   "execution_count": 190,
   "id": "fb62d411",
   "metadata": {},
   "outputs": [],
   "source": [
    "jp = np.array(list2)"
   ]
  },
  {
   "cell_type": "code",
   "execution_count": 200,
   "id": "faf2ad3b",
   "metadata": {},
   "outputs": [
    {
     "name": "stdout",
     "output_type": "stream",
     "text": [
      "timi average score is  93.33333333333333\n"
     ]
    }
   ],
   "source": [
    "for i,j in D.items():\n",
    "    print(i,'average score is ',sum(j)/len(j))"
   ]
  },
  {
   "cell_type": "code",
   "execution_count": null,
   "id": "3912334f",
   "metadata": {},
   "outputs": [],
   "source": [
    "n = int(input())\n",
    "student_marks = {}\n",
    "for _ in range(n):\n",
    "    name, *line = input().split()\n",
    "    print(*line)"
   ]
  },
  {
   "cell_type": "code",
   "execution_count": 272,
   "id": "4680c921",
   "metadata": {},
   "outputs": [],
   "source": [
    "def sqr_func(n):\n",
    "    \n",
    "    return n**2\n",
    "    "
   ]
  },
  {
   "cell_type": "code",
   "execution_count": 276,
   "id": "b392171e",
   "metadata": {},
   "outputs": [],
   "source": [
    "numbers = [i for i in range(10)]"
   ]
  },
  {
   "cell_type": "code",
   "execution_count": 293,
   "id": "d6f46fcd",
   "metadata": {},
   "outputs": [],
   "source": [
    "numbers = [0, 1, 2, 3, 4, 5, 6, 7, 8, 9]"
   ]
  },
  {
   "cell_type": "code",
   "execution_count": 281,
   "id": "c73cc13a",
   "metadata": {},
   "outputs": [
    {
     "data": {
      "text/plain": [
       "100"
      ]
     },
     "execution_count": 281,
     "metadata": {},
     "output_type": "execute_result"
    }
   ],
   "source": [
    "sqr_func(10)"
   ]
  },
  {
   "cell_type": "code",
   "execution_count": 294,
   "id": "c217842a",
   "metadata": {},
   "outputs": [],
   "source": [
    "map_func = map(sqr_func,numbers)"
   ]
  },
  {
   "cell_type": "code",
   "execution_count": 295,
   "id": "583076a9",
   "metadata": {},
   "outputs": [
    {
     "name": "stdout",
     "output_type": "stream",
     "text": [
      "{0, 1, 64, 4, 36, 9, 16, 49, 81, 25}\n"
     ]
    }
   ],
   "source": [
    "sq= set(map_func)\n",
    "print(sq)"
   ]
  },
  {
   "cell_type": "code",
   "execution_count": 1,
   "id": "05e0f1eb",
   "metadata": {},
   "outputs": [
    {
     "name": "stdout",
     "output_type": "stream",
     "text": [
      "hello where are you from?\n"
     ]
    }
   ],
   "source": [
    "print('hello where are you from?')"
   ]
  },
  {
   "cell_type": "code",
   "execution_count": 10,
   "id": "0eeea5c4",
   "metadata": {},
   "outputs": [
    {
     "data": {
      "text/plain": [
       "'Provided weekly and monthly reports to Business and Support Partners for MPR reports/purposes.'"
      ]
     },
     "execution_count": 10,
     "metadata": {},
     "output_type": "execute_result"
    }
   ],
   "source": [
    "text_1"
   ]
  },
  {
   "cell_type": "code",
   "execution_count": 5,
   "id": "eec251b9",
   "metadata": {},
   "outputs": [],
   "source": [
    "text = \"Provided weekly and monthly reports to Business and Support Partners for MPR reports/purposes\""
   ]
  },
  {
   "cell_type": "code",
   "execution_count": null,
   "id": "d167675d",
   "metadata": {},
   "outputs": [],
   "source": []
  }
 ],
 "metadata": {
  "kernelspec": {
   "display_name": "Python 3",
   "language": "python",
   "name": "python3"
  },
  "language_info": {
   "codemirror_mode": {
    "name": "ipython",
    "version": 3
   },
   "file_extension": ".py",
   "mimetype": "text/x-python",
   "name": "python",
   "nbconvert_exporter": "python",
   "pygments_lexer": "ipython3",
   "version": "3.8.8"
  }
 },
 "nbformat": 4,
 "nbformat_minor": 5
}
